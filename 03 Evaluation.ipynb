{
 "cells": [
  {
   "cell_type": "code",
   "execution_count": 86,
   "metadata": {},
   "outputs": [],
   "source": [
    "import matplotlib.pyplot as plt\n",
    "from torch.utils import data\n",
    "import numpy as np\n",
    "from tqdm import tqdm\n",
    "import random\n",
    "from visualisationMetrics import *\n",
    "from dataLoader import *\n",
    "from utils.utils import to_pkl, from_pkl, js_divergence, fid\n",
    "from plotly.subplots import make_subplots\n",
    "import plotly.graph_objects as go\n",
    "from collections import defaultdict"
   ]
  },
  {
   "cell_type": "code",
   "execution_count": 104,
   "metadata": {},
   "outputs": [],
   "source": [
    "NSETS = 20\n",
    "LOGIR_NAME = 'var-moderate'\n",
    "\n",
    "if not os.path.exists(f'results/{LOGIR_NAME}/'):\n",
    "    os.mkdir(f'results/{LOGIR_NAME}/')"
   ]
  },
  {
   "attachments": {},
   "cell_type": "markdown",
   "metadata": {},
   "source": [
    "# Load results"
   ]
  },
  {
   "attachments": {},
   "cell_type": "markdown",
   "metadata": {},
   "source": [
    "### Load real data"
   ]
  },
  {
   "cell_type": "code",
   "execution_count": 48,
   "metadata": {},
   "outputs": [
    {
     "name": "stderr",
     "output_type": "stream",
     "text": [
      "[*********************100%%**********************]  1 of 1 completed\n"
     ]
    },
    {
     "name": "stdout",
     "output_type": "stream",
     "text": [
      "X_train's shape is (4328, 1, 1, 2), X_test's shape is (481, 1, 1, 2)\n",
      "y_train's label shape is (4328, 1, 1, 43), y_test's label shape is (481, 1, 1, 43)\n",
      "(481, 1, 43)\n",
      "(481, 1, 2)\n",
      "(481, 43, 1)\n"
     ]
    }
   ],
   "source": [
    "real_data = load_dataset(data_mode='Train')\n",
    "real_dataloader = data.DataLoader(real_data, batch_size=1, num_workers=1, shuffle=True)\n",
    "\n",
    "real_paths = []\n",
    "real_conds = []\n",
    "\n",
    "for i, (cond, sim) in enumerate(real_dataloader):\n",
    "    sim = sim.cpu().detach().numpy()\n",
    "    sim = sim.reshape(sim.shape[1], sim.shape[3])\n",
    "    real_paths.append(sim)\n",
    "    cond = cond.cpu().detach().numpy()\n",
    "    cond = cond.reshape(cond.shape[1], cond.shape[3])\n",
    "    real_conds.append(cond)\n",
    "\n",
    "real_paths = np.array(real_paths)\n",
    "real_conds = np.array(real_conds)\n",
    "print(real_paths.shape)\n",
    "print(real_conds.shape)\n",
    "\n",
    "real_vals = np.transpose(real_paths, (0,2,1))\n",
    "print(real_vals.shape)\n",
    "to_pkl(f'results/real_vals.pkl', real_vals)"
   ]
  },
  {
   "attachments": {},
   "cell_type": "markdown",
   "metadata": {},
   "source": [
    "### Load synthetic data"
   ]
  },
  {
   "cell_type": "code",
   "execution_count": 88,
   "metadata": {},
   "outputs": [],
   "source": [
    "from LoadSynthetic import *"
   ]
  },
  {
   "cell_type": "code",
   "execution_count": 89,
   "metadata": {},
   "outputs": [],
   "source": [
    "def get_syn_vals(model_path=f'./logs/{LOGIR_NAME}/Model/checkpoint', n=10, **kwargs):\n",
    "    syn_data = Synthetic_Dataset(model_path=model_path, n=n, dataset=real_data, seq_len=real_data.output_size, conditions_dim=real_data.X_train.shape[-1], **kwargs)\n",
    "    dataloader = data.DataLoader(syn_data, batch_size=1, num_workers=1, shuffle=True, **kwargs)\n",
    "\n",
    "    paths = []\n",
    "    conds = []\n",
    "\n",
    "    for i, (cond, sim) in enumerate(dataloader):\n",
    "        sim = sim.cpu().detach().numpy()\n",
    "        sim = sim.reshape(sim.shape[1], sim.shape[3])\n",
    "        paths.append(sim)\n",
    "        cond = cond.cpu().detach().numpy()\n",
    "        cond = cond.reshape(cond.shape[1], cond.shape[3])\n",
    "        conds.append(cond)\n",
    "        \n",
    "    paths = np.array(paths)\n",
    "    conds = np.array(conds)\n",
    "    vals = np.transpose(paths, (0,2,1))\n",
    "    np.random.shuffle(vals)\n",
    "    return vals\n",
    "\n",
    "def get_syn_val_sets(nsets, **kwargs):\n",
    "    val_sets = []\n",
    "    for i in range(nsets):\n",
    "        val_sets.append(get_syn_vals(**kwargs))\n",
    "    return val_sets"
   ]
  },
  {
   "cell_type": "code",
   "execution_count": 90,
   "metadata": {},
   "outputs": [],
   "source": [
    "syn_val_sets = get_syn_val_sets(nsets=NSETS)\n",
    "to_pkl(f'results/{LOGIR_NAME}/syn_val_sets.pkl', syn_val_sets)"
   ]
  },
  {
   "attachments": {},
   "cell_type": "markdown",
   "metadata": {},
   "source": [
    "### Load benchmark data"
   ]
  },
  {
   "cell_type": "code",
   "execution_count": 52,
   "metadata": {},
   "outputs": [],
   "source": [
    "from utils.utils import GBM_Simulator"
   ]
  },
  {
   "cell_type": "code",
   "execution_count": 53,
   "metadata": {},
   "outputs": [],
   "source": [
    "def get_gbm_vals(n=10, **kwargs):\n",
    "    simulator = GBM_Simulator(dataset=real_data, nsamples=n)\n",
    "    paths = simulator.run()\n",
    "    paths = np.reshape(paths, (-1,1,paths.shape[-1]))\n",
    "\n",
    "    vals = np.transpose(paths, (0, 2, 1))\n",
    "    np.random.shuffle(vals)\n",
    "    return vals\n",
    "\n",
    "def get_gbm_val_sets(nsets, **kwargs):\n",
    "    val_sets = []\n",
    "    for i in range(nsets):\n",
    "        val_sets.append(get_syn_vals(**kwargs))\n",
    "    return val_sets"
   ]
  },
  {
   "cell_type": "code",
   "execution_count": 54,
   "metadata": {},
   "outputs": [],
   "source": [
    "gbm_val_sets = get_gbm_val_sets(nsets=NSETS)\n",
    "to_pkl(f'results/gbm_val_sets.pkl', gbm_val_sets)"
   ]
  },
  {
   "attachments": {},
   "cell_type": "markdown",
   "metadata": {},
   "source": [
    "# Run evaluations"
   ]
  },
  {
   "cell_type": "code",
   "execution_count": 105,
   "metadata": {},
   "outputs": [],
   "source": [
    "real_vals = from_pkl(f'results/real_vals.pkl')\n",
    "syn_val_sets = from_pkl(f'results/{LOGIR_NAME}/syn_val_sets.pkl')\n",
    "gbm_val_sets = from_pkl(f'results/gbm_val_sets.pkl')"
   ]
  },
  {
   "cell_type": "code",
   "execution_count": 106,
   "metadata": {},
   "outputs": [],
   "source": [
    "eval_scores = {\n",
    "    'js_pca': {\n",
    "        'syn': [],\n",
    "        'gbm': []\n",
    "    },\n",
    "    'js_tsne': {\n",
    "        'syn': [],\n",
    "        'gbm': []\n",
    "    },\n",
    "    'fid': {\n",
    "        'syn': [],\n",
    "        'gbm': []\n",
    "    }\n",
    "}"
   ]
  },
  {
   "cell_type": "code",
   "execution_count": 107,
   "metadata": {},
   "outputs": [],
   "source": [
    "def js_div(real_vals, syn_vals, gbm_vals, mode, n_components=10, **kwargs):\n",
    "    real, syn, gbm = dim_reduction([real_vals, syn_vals, gbm_vals], n_components=n_components, mode=mode, **kwargs)\n",
    "    syn_score = js_divergence(real, syn, verbose=False)\n",
    "    gbm_score = js_divergence(real, gbm, verbose=False)\n",
    "    return syn_score, gbm_score"
   ]
  },
  {
   "cell_type": "code",
   "execution_count": 94,
   "metadata": {},
   "outputs": [
    {
     "name": "stderr",
     "output_type": "stream",
     "text": [
      "0it [00:00, ?it/s]"
     ]
    },
    {
     "name": "stdout",
     "output_type": "stream",
     "text": [
      "[t-SNE] Computing 121 nearest neighbors...\n",
      "[t-SNE] Indexed 1443 samples in 0.000s...\n",
      "[t-SNE] Computed neighbors for 1443 samples in 0.150s...\n",
      "[t-SNE] Computed conditional probabilities for sample 1000 / 1443\n",
      "[t-SNE] Computed conditional probabilities for sample 1443 / 1443\n",
      "[t-SNE] Mean sigma: 0.043509\n",
      "[t-SNE] KL divergence after 250 iterations with early exaggeration: 61.095905\n",
      "[t-SNE] KL divergence after 300 iterations: 1.199410\n",
      "[t-SNE] Computing 121 nearest neighbors...\n",
      "[t-SNE] Indexed 1443 samples in 0.001s...\n",
      "[t-SNE] Computed neighbors for 1443 samples in 0.129s...\n",
      "[t-SNE] Computed conditional probabilities for sample 1000 / 1443\n",
      "[t-SNE] Computed conditional probabilities for sample 1443 / 1443\n",
      "[t-SNE] Mean sigma: 0.043509\n",
      "[t-SNE] KL divergence after 250 iterations with early exaggeration: 61.096836\n",
      "[t-SNE] KL divergence after 300 iterations: 1.194389\n",
      "[t-SNE] Computing 121 nearest neighbors...\n",
      "[t-SNE] Indexed 1443 samples in 0.002s...\n",
      "[t-SNE] Computed neighbors for 1443 samples in 0.136s...\n",
      "[t-SNE] Computed conditional probabilities for sample 1000 / 1443\n",
      "[t-SNE] Computed conditional probabilities for sample 1443 / 1443\n",
      "[t-SNE] Mean sigma: 0.043509\n",
      "[t-SNE] KL divergence after 250 iterations with early exaggeration: 61.095219\n",
      "[t-SNE] KL divergence after 300 iterations: 1.204069\n"
     ]
    },
    {
     "name": "stderr",
     "output_type": "stream",
     "text": [
      "1it [00:07,  7.74s/it]"
     ]
    },
    {
     "name": "stdout",
     "output_type": "stream",
     "text": [
      "[t-SNE] Computing 121 nearest neighbors...\n",
      "[t-SNE] Indexed 1443 samples in 0.001s...\n",
      "[t-SNE] Computed neighbors for 1443 samples in 0.127s...\n",
      "[t-SNE] Computed conditional probabilities for sample 1000 / 1443\n",
      "[t-SNE] Computed conditional probabilities for sample 1443 / 1443\n",
      "[t-SNE] Mean sigma: 0.044476\n",
      "[t-SNE] KL divergence after 250 iterations with early exaggeration: 61.039688\n",
      "[t-SNE] KL divergence after 300 iterations: 1.136222\n",
      "[t-SNE] Computing 121 nearest neighbors...\n",
      "[t-SNE] Indexed 1443 samples in 0.000s...\n",
      "[t-SNE] Computed neighbors for 1443 samples in 0.118s...\n",
      "[t-SNE] Computed conditional probabilities for sample 1000 / 1443\n",
      "[t-SNE] Computed conditional probabilities for sample 1443 / 1443\n",
      "[t-SNE] Mean sigma: 0.044476\n",
      "[t-SNE] KL divergence after 250 iterations with early exaggeration: 61.039696\n",
      "[t-SNE] KL divergence after 300 iterations: 1.136123\n",
      "[t-SNE] Computing 121 nearest neighbors...\n",
      "[t-SNE] Indexed 1443 samples in 0.000s...\n",
      "[t-SNE] Computed neighbors for 1443 samples in 0.121s...\n",
      "[t-SNE] Computed conditional probabilities for sample 1000 / 1443\n",
      "[t-SNE] Computed conditional probabilities for sample 1443 / 1443\n",
      "[t-SNE] Mean sigma: 0.044476\n",
      "[t-SNE] KL divergence after 250 iterations with early exaggeration: 61.039574\n",
      "[t-SNE] KL divergence after 300 iterations: 1.136262\n"
     ]
    },
    {
     "name": "stderr",
     "output_type": "stream",
     "text": [
      "2it [00:16,  8.29s/it]"
     ]
    },
    {
     "name": "stdout",
     "output_type": "stream",
     "text": [
      "[t-SNE] Computing 121 nearest neighbors...\n",
      "[t-SNE] Indexed 1443 samples in 0.000s...\n",
      "[t-SNE] Computed neighbors for 1443 samples in 0.120s...\n",
      "[t-SNE] Computed conditional probabilities for sample 1000 / 1443\n",
      "[t-SNE] Computed conditional probabilities for sample 1443 / 1443\n",
      "[t-SNE] Mean sigma: 0.044055\n",
      "[t-SNE] KL divergence after 250 iterations with early exaggeration: 61.083603\n",
      "[t-SNE] KL divergence after 300 iterations: 1.140997\n",
      "[t-SNE] Computing 121 nearest neighbors...\n",
      "[t-SNE] Indexed 1443 samples in 0.000s...\n",
      "[t-SNE] Computed neighbors for 1443 samples in 0.116s...\n",
      "[t-SNE] Computed conditional probabilities for sample 1000 / 1443\n",
      "[t-SNE] Computed conditional probabilities for sample 1443 / 1443\n",
      "[t-SNE] Mean sigma: 0.044055\n",
      "[t-SNE] KL divergence after 250 iterations with early exaggeration: 61.083687\n",
      "[t-SNE] KL divergence after 300 iterations: 1.141191\n",
      "[t-SNE] Computing 121 nearest neighbors...\n",
      "[t-SNE] Indexed 1443 samples in 0.000s...\n",
      "[t-SNE] Computed neighbors for 1443 samples in 0.125s...\n",
      "[t-SNE] Computed conditional probabilities for sample 1000 / 1443\n",
      "[t-SNE] Computed conditional probabilities for sample 1443 / 1443\n",
      "[t-SNE] Mean sigma: 0.044055\n",
      "[t-SNE] KL divergence after 250 iterations with early exaggeration: 61.083447\n",
      "[t-SNE] KL divergence after 300 iterations: 1.141130\n"
     ]
    },
    {
     "name": "stderr",
     "output_type": "stream",
     "text": [
      "3it [00:24,  8.23s/it]"
     ]
    },
    {
     "name": "stdout",
     "output_type": "stream",
     "text": [
      "[t-SNE] Computing 121 nearest neighbors...\n",
      "[t-SNE] Indexed 1443 samples in 0.001s...\n",
      "[t-SNE] Computed neighbors for 1443 samples in 0.127s...\n",
      "[t-SNE] Computed conditional probabilities for sample 1000 / 1443\n",
      "[t-SNE] Computed conditional probabilities for sample 1443 / 1443\n",
      "[t-SNE] Mean sigma: 0.043843\n",
      "[t-SNE] KL divergence after 250 iterations with early exaggeration: 60.791817\n",
      "[t-SNE] KL divergence after 300 iterations: 1.260110\n",
      "[t-SNE] Computing 121 nearest neighbors...\n",
      "[t-SNE] Indexed 1443 samples in 0.001s...\n",
      "[t-SNE] Computed neighbors for 1443 samples in 0.144s...\n",
      "[t-SNE] Computed conditional probabilities for sample 1000 / 1443\n",
      "[t-SNE] Computed conditional probabilities for sample 1443 / 1443\n",
      "[t-SNE] Mean sigma: 0.043843\n",
      "[t-SNE] KL divergence after 250 iterations with early exaggeration: 60.791462\n",
      "[t-SNE] KL divergence after 300 iterations: 1.258698\n",
      "[t-SNE] Computing 121 nearest neighbors...\n",
      "[t-SNE] Indexed 1443 samples in 0.000s...\n",
      "[t-SNE] Computed neighbors for 1443 samples in 0.128s...\n",
      "[t-SNE] Computed conditional probabilities for sample 1000 / 1443\n",
      "[t-SNE] Computed conditional probabilities for sample 1443 / 1443\n",
      "[t-SNE] Mean sigma: 0.043843\n",
      "[t-SNE] KL divergence after 250 iterations with early exaggeration: 60.792427\n",
      "[t-SNE] KL divergence after 300 iterations: 1.263573\n"
     ]
    },
    {
     "name": "stderr",
     "output_type": "stream",
     "text": [
      "4it [00:33,  8.33s/it]"
     ]
    },
    {
     "name": "stdout",
     "output_type": "stream",
     "text": [
      "[t-SNE] Computing 121 nearest neighbors...\n",
      "[t-SNE] Indexed 1443 samples in 0.001s...\n",
      "[t-SNE] Computed neighbors for 1443 samples in 0.145s...\n",
      "[t-SNE] Computed conditional probabilities for sample 1000 / 1443\n",
      "[t-SNE] Computed conditional probabilities for sample 1443 / 1443\n",
      "[t-SNE] Mean sigma: 0.044319\n",
      "[t-SNE] KL divergence after 250 iterations with early exaggeration: 61.187603\n",
      "[t-SNE] KL divergence after 300 iterations: 1.211054\n",
      "[t-SNE] Computing 121 nearest neighbors...\n",
      "[t-SNE] Indexed 1443 samples in 0.000s...\n",
      "[t-SNE] Computed neighbors for 1443 samples in 0.119s...\n",
      "[t-SNE] Computed conditional probabilities for sample 1000 / 1443\n",
      "[t-SNE] Computed conditional probabilities for sample 1443 / 1443\n",
      "[t-SNE] Mean sigma: 0.044319\n",
      "[t-SNE] KL divergence after 250 iterations with early exaggeration: 61.187706\n",
      "[t-SNE] KL divergence after 300 iterations: 1.196168\n",
      "[t-SNE] Computing 121 nearest neighbors...\n",
      "[t-SNE] Indexed 1443 samples in 0.000s...\n",
      "[t-SNE] Computed neighbors for 1443 samples in 0.122s...\n",
      "[t-SNE] Computed conditional probabilities for sample 1000 / 1443\n",
      "[t-SNE] Computed conditional probabilities for sample 1443 / 1443\n",
      "[t-SNE] Mean sigma: 0.044319\n",
      "[t-SNE] KL divergence after 250 iterations with early exaggeration: 61.187836\n",
      "[t-SNE] KL divergence after 300 iterations: 1.172061\n"
     ]
    },
    {
     "name": "stderr",
     "output_type": "stream",
     "text": [
      "5it [00:41,  8.30s/it]"
     ]
    },
    {
     "name": "stdout",
     "output_type": "stream",
     "text": [
      "[t-SNE] Computing 121 nearest neighbors...\n",
      "[t-SNE] Indexed 1443 samples in 0.001s...\n",
      "[t-SNE] Computed neighbors for 1443 samples in 0.129s...\n",
      "[t-SNE] Computed conditional probabilities for sample 1000 / 1443\n",
      "[t-SNE] Computed conditional probabilities for sample 1443 / 1443\n",
      "[t-SNE] Mean sigma: 0.043866\n",
      "[t-SNE] KL divergence after 250 iterations with early exaggeration: 61.303715\n",
      "[t-SNE] KL divergence after 300 iterations: 1.224182\n",
      "[t-SNE] Computing 121 nearest neighbors...\n",
      "[t-SNE] Indexed 1443 samples in 0.000s...\n",
      "[t-SNE] Computed neighbors for 1443 samples in 0.126s...\n",
      "[t-SNE] Computed conditional probabilities for sample 1000 / 1443\n",
      "[t-SNE] Computed conditional probabilities for sample 1443 / 1443\n",
      "[t-SNE] Mean sigma: 0.043866\n",
      "[t-SNE] KL divergence after 250 iterations with early exaggeration: 61.303268\n",
      "[t-SNE] KL divergence after 300 iterations: 1.250059\n",
      "[t-SNE] Computing 121 nearest neighbors...\n",
      "[t-SNE] Indexed 1443 samples in 0.000s...\n",
      "[t-SNE] Computed neighbors for 1443 samples in 0.118s...\n",
      "[t-SNE] Computed conditional probabilities for sample 1000 / 1443\n",
      "[t-SNE] Computed conditional probabilities for sample 1443 / 1443\n",
      "[t-SNE] Mean sigma: 0.043866\n",
      "[t-SNE] KL divergence after 250 iterations with early exaggeration: 61.302834\n",
      "[t-SNE] KL divergence after 300 iterations: 1.245431\n"
     ]
    },
    {
     "name": "stderr",
     "output_type": "stream",
     "text": [
      "6it [00:49,  8.26s/it]"
     ]
    },
    {
     "name": "stdout",
     "output_type": "stream",
     "text": [
      "[t-SNE] Computing 121 nearest neighbors...\n",
      "[t-SNE] Indexed 1443 samples in 0.001s...\n",
      "[t-SNE] Computed neighbors for 1443 samples in 0.130s...\n",
      "[t-SNE] Computed conditional probabilities for sample 1000 / 1443\n",
      "[t-SNE] Computed conditional probabilities for sample 1443 / 1443\n",
      "[t-SNE] Mean sigma: 0.043559\n",
      "[t-SNE] KL divergence after 250 iterations with early exaggeration: 61.005138\n",
      "[t-SNE] KL divergence after 300 iterations: 1.167149\n",
      "[t-SNE] Computing 121 nearest neighbors...\n",
      "[t-SNE] Indexed 1443 samples in 0.001s...\n",
      "[t-SNE] Computed neighbors for 1443 samples in 0.129s...\n",
      "[t-SNE] Computed conditional probabilities for sample 1000 / 1443\n",
      "[t-SNE] Computed conditional probabilities for sample 1443 / 1443\n",
      "[t-SNE] Mean sigma: 0.043559\n",
      "[t-SNE] KL divergence after 250 iterations with early exaggeration: 61.003784\n",
      "[t-SNE] KL divergence after 300 iterations: 1.169638\n",
      "[t-SNE] Computing 121 nearest neighbors...\n",
      "[t-SNE] Indexed 1443 samples in 0.001s...\n",
      "[t-SNE] Computed neighbors for 1443 samples in 0.121s...\n",
      "[t-SNE] Computed conditional probabilities for sample 1000 / 1443\n",
      "[t-SNE] Computed conditional probabilities for sample 1443 / 1443\n",
      "[t-SNE] Mean sigma: 0.043559\n",
      "[t-SNE] KL divergence after 250 iterations with early exaggeration: 61.005547\n",
      "[t-SNE] KL divergence after 300 iterations: 1.165253\n"
     ]
    },
    {
     "name": "stderr",
     "output_type": "stream",
     "text": [
      "7it [00:57,  8.28s/it]"
     ]
    },
    {
     "name": "stdout",
     "output_type": "stream",
     "text": [
      "[t-SNE] Computing 121 nearest neighbors...\n",
      "[t-SNE] Indexed 1443 samples in 0.000s...\n",
      "[t-SNE] Computed neighbors for 1443 samples in 0.120s...\n",
      "[t-SNE] Computed conditional probabilities for sample 1000 / 1443\n",
      "[t-SNE] Computed conditional probabilities for sample 1443 / 1443\n",
      "[t-SNE] Mean sigma: 0.044191\n",
      "[t-SNE] KL divergence after 250 iterations with early exaggeration: 60.978054\n",
      "[t-SNE] KL divergence after 300 iterations: 1.135923\n",
      "[t-SNE] Computing 121 nearest neighbors...\n",
      "[t-SNE] Indexed 1443 samples in 0.000s...\n",
      "[t-SNE] Computed neighbors for 1443 samples in 0.129s...\n",
      "[t-SNE] Computed conditional probabilities for sample 1000 / 1443\n",
      "[t-SNE] Computed conditional probabilities for sample 1443 / 1443\n",
      "[t-SNE] Mean sigma: 0.044191\n",
      "[t-SNE] KL divergence after 250 iterations with early exaggeration: 60.977982\n",
      "[t-SNE] KL divergence after 300 iterations: 1.135841\n",
      "[t-SNE] Computing 121 nearest neighbors...\n",
      "[t-SNE] Indexed 1443 samples in 0.000s...\n",
      "[t-SNE] Computed neighbors for 1443 samples in 0.123s...\n",
      "[t-SNE] Computed conditional probabilities for sample 1000 / 1443\n",
      "[t-SNE] Computed conditional probabilities for sample 1443 / 1443\n",
      "[t-SNE] Mean sigma: 0.044191\n",
      "[t-SNE] KL divergence after 250 iterations with early exaggeration: 60.978085\n",
      "[t-SNE] KL divergence after 300 iterations: 1.135697\n"
     ]
    },
    {
     "name": "stderr",
     "output_type": "stream",
     "text": [
      "8it [01:06,  8.30s/it]"
     ]
    },
    {
     "name": "stdout",
     "output_type": "stream",
     "text": [
      "[t-SNE] Computing 121 nearest neighbors...\n",
      "[t-SNE] Indexed 1443 samples in 0.000s...\n",
      "[t-SNE] Computed neighbors for 1443 samples in 0.123s...\n",
      "[t-SNE] Computed conditional probabilities for sample 1000 / 1443\n",
      "[t-SNE] Computed conditional probabilities for sample 1443 / 1443\n",
      "[t-SNE] Mean sigma: 0.043851\n",
      "[t-SNE] KL divergence after 250 iterations with early exaggeration: 61.045998\n",
      "[t-SNE] KL divergence after 300 iterations: 1.142774\n",
      "[t-SNE] Computing 121 nearest neighbors...\n",
      "[t-SNE] Indexed 1443 samples in 0.001s...\n",
      "[t-SNE] Computed neighbors for 1443 samples in 0.132s...\n",
      "[t-SNE] Computed conditional probabilities for sample 1000 / 1443\n",
      "[t-SNE] Computed conditional probabilities for sample 1443 / 1443\n",
      "[t-SNE] Mean sigma: 0.043851\n",
      "[t-SNE] KL divergence after 250 iterations with early exaggeration: 61.045048\n",
      "[t-SNE] KL divergence after 300 iterations: 1.142534\n",
      "[t-SNE] Computing 121 nearest neighbors...\n",
      "[t-SNE] Indexed 1443 samples in 0.000s...\n",
      "[t-SNE] Computed neighbors for 1443 samples in 0.122s...\n",
      "[t-SNE] Computed conditional probabilities for sample 1000 / 1443\n",
      "[t-SNE] Computed conditional probabilities for sample 1443 / 1443\n",
      "[t-SNE] Mean sigma: 0.043851\n",
      "[t-SNE] KL divergence after 250 iterations with early exaggeration: 61.045017\n",
      "[t-SNE] KL divergence after 300 iterations: 1.142597\n"
     ]
    },
    {
     "name": "stderr",
     "output_type": "stream",
     "text": [
      "9it [01:14,  8.37s/it]"
     ]
    },
    {
     "name": "stdout",
     "output_type": "stream",
     "text": [
      "[t-SNE] Computing 121 nearest neighbors...\n",
      "[t-SNE] Indexed 1443 samples in 0.000s...\n",
      "[t-SNE] Computed neighbors for 1443 samples in 0.130s...\n",
      "[t-SNE] Computed conditional probabilities for sample 1000 / 1443\n",
      "[t-SNE] Computed conditional probabilities for sample 1443 / 1443\n",
      "[t-SNE] Mean sigma: 0.044471\n",
      "[t-SNE] KL divergence after 250 iterations with early exaggeration: 61.227093\n",
      "[t-SNE] KL divergence after 300 iterations: 1.244200\n",
      "[t-SNE] Computing 121 nearest neighbors...\n",
      "[t-SNE] Indexed 1443 samples in 0.000s...\n",
      "[t-SNE] Computed neighbors for 1443 samples in 0.130s...\n",
      "[t-SNE] Computed conditional probabilities for sample 1000 / 1443\n",
      "[t-SNE] Computed conditional probabilities for sample 1443 / 1443\n",
      "[t-SNE] Mean sigma: 0.044471\n",
      "[t-SNE] KL divergence after 250 iterations with early exaggeration: 61.227100\n",
      "[t-SNE] KL divergence after 300 iterations: 1.244649\n",
      "[t-SNE] Computing 121 nearest neighbors...\n",
      "[t-SNE] Indexed 1443 samples in 0.000s...\n",
      "[t-SNE] Computed neighbors for 1443 samples in 0.121s...\n",
      "[t-SNE] Computed conditional probabilities for sample 1000 / 1443\n",
      "[t-SNE] Computed conditional probabilities for sample 1443 / 1443\n",
      "[t-SNE] Mean sigma: 0.044471\n",
      "[t-SNE] KL divergence after 250 iterations with early exaggeration: 61.227486\n",
      "[t-SNE] KL divergence after 300 iterations: 1.243115\n"
     ]
    },
    {
     "name": "stderr",
     "output_type": "stream",
     "text": [
      "10it [01:23,  8.47s/it]"
     ]
    },
    {
     "name": "stdout",
     "output_type": "stream",
     "text": [
      "[t-SNE] Computing 121 nearest neighbors...\n",
      "[t-SNE] Indexed 1443 samples in 0.000s...\n",
      "[t-SNE] Computed neighbors for 1443 samples in 0.128s...\n",
      "[t-SNE] Computed conditional probabilities for sample 1000 / 1443\n",
      "[t-SNE] Computed conditional probabilities for sample 1443 / 1443\n",
      "[t-SNE] Mean sigma: 0.043916\n",
      "[t-SNE] KL divergence after 250 iterations with early exaggeration: 61.058346\n",
      "[t-SNE] KL divergence after 300 iterations: 1.151834\n",
      "[t-SNE] Computing 121 nearest neighbors...\n",
      "[t-SNE] Indexed 1443 samples in 0.001s...\n",
      "[t-SNE] Computed neighbors for 1443 samples in 0.117s...\n",
      "[t-SNE] Computed conditional probabilities for sample 1000 / 1443\n",
      "[t-SNE] Computed conditional probabilities for sample 1443 / 1443\n",
      "[t-SNE] Mean sigma: 0.043916\n",
      "[t-SNE] KL divergence after 250 iterations with early exaggeration: 61.058472\n",
      "[t-SNE] KL divergence after 300 iterations: 1.151394\n",
      "[t-SNE] Computing 121 nearest neighbors...\n",
      "[t-SNE] Indexed 1443 samples in 0.000s...\n",
      "[t-SNE] Computed neighbors for 1443 samples in 0.119s...\n",
      "[t-SNE] Computed conditional probabilities for sample 1000 / 1443\n",
      "[t-SNE] Computed conditional probabilities for sample 1443 / 1443\n",
      "[t-SNE] Mean sigma: 0.043916\n",
      "[t-SNE] KL divergence after 250 iterations with early exaggeration: 61.057919\n",
      "[t-SNE] KL divergence after 300 iterations: 1.151733\n"
     ]
    },
    {
     "name": "stderr",
     "output_type": "stream",
     "text": [
      "11it [01:31,  8.39s/it]"
     ]
    },
    {
     "name": "stdout",
     "output_type": "stream",
     "text": [
      "[t-SNE] Computing 121 nearest neighbors...\n",
      "[t-SNE] Indexed 1443 samples in 0.000s...\n",
      "[t-SNE] Computed neighbors for 1443 samples in 0.120s...\n",
      "[t-SNE] Computed conditional probabilities for sample 1000 / 1443\n",
      "[t-SNE] Computed conditional probabilities for sample 1443 / 1443\n",
      "[t-SNE] Mean sigma: 0.043988\n",
      "[t-SNE] KL divergence after 250 iterations with early exaggeration: 61.163368\n",
      "[t-SNE] KL divergence after 300 iterations: 1.156156\n",
      "[t-SNE] Computing 121 nearest neighbors...\n",
      "[t-SNE] Indexed 1443 samples in 0.001s...\n",
      "[t-SNE] Computed neighbors for 1443 samples in 0.120s...\n",
      "[t-SNE] Computed conditional probabilities for sample 1000 / 1443\n",
      "[t-SNE] Computed conditional probabilities for sample 1443 / 1443\n",
      "[t-SNE] Mean sigma: 0.043988\n",
      "[t-SNE] KL divergence after 250 iterations with early exaggeration: 61.163391\n",
      "[t-SNE] KL divergence after 300 iterations: 1.157029\n",
      "[t-SNE] Computing 121 nearest neighbors...\n",
      "[t-SNE] Indexed 1443 samples in 0.000s...\n",
      "[t-SNE] Computed neighbors for 1443 samples in 0.122s...\n",
      "[t-SNE] Computed conditional probabilities for sample 1000 / 1443\n",
      "[t-SNE] Computed conditional probabilities for sample 1443 / 1443\n",
      "[t-SNE] Mean sigma: 0.043988\n",
      "[t-SNE] KL divergence after 250 iterations with early exaggeration: 61.163368\n",
      "[t-SNE] KL divergence after 300 iterations: 1.156487\n"
     ]
    },
    {
     "name": "stderr",
     "output_type": "stream",
     "text": [
      "12it [01:39,  8.32s/it]"
     ]
    },
    {
     "name": "stdout",
     "output_type": "stream",
     "text": [
      "[t-SNE] Computing 121 nearest neighbors...\n",
      "[t-SNE] Indexed 1443 samples in 0.000s...\n",
      "[t-SNE] Computed neighbors for 1443 samples in 0.122s...\n",
      "[t-SNE] Computed conditional probabilities for sample 1000 / 1443\n",
      "[t-SNE] Computed conditional probabilities for sample 1443 / 1443\n",
      "[t-SNE] Mean sigma: 0.044346\n",
      "[t-SNE] KL divergence after 250 iterations with early exaggeration: 61.272720\n",
      "[t-SNE] KL divergence after 300 iterations: 1.153045\n",
      "[t-SNE] Computing 121 nearest neighbors...\n",
      "[t-SNE] Indexed 1443 samples in 0.000s...\n",
      "[t-SNE] Computed neighbors for 1443 samples in 0.135s...\n",
      "[t-SNE] Computed conditional probabilities for sample 1000 / 1443\n",
      "[t-SNE] Computed conditional probabilities for sample 1443 / 1443\n",
      "[t-SNE] Mean sigma: 0.044346\n",
      "[t-SNE] KL divergence after 250 iterations with early exaggeration: 61.272579\n",
      "[t-SNE] KL divergence after 300 iterations: 1.153078\n",
      "[t-SNE] Computing 121 nearest neighbors...\n",
      "[t-SNE] Indexed 1443 samples in 0.000s...\n",
      "[t-SNE] Computed neighbors for 1443 samples in 0.131s...\n",
      "[t-SNE] Computed conditional probabilities for sample 1000 / 1443\n",
      "[t-SNE] Computed conditional probabilities for sample 1443 / 1443\n",
      "[t-SNE] Mean sigma: 0.044346\n",
      "[t-SNE] KL divergence after 250 iterations with early exaggeration: 61.272629\n",
      "[t-SNE] KL divergence after 300 iterations: 1.152876\n"
     ]
    },
    {
     "name": "stderr",
     "output_type": "stream",
     "text": [
      "13it [01:48,  8.32s/it]"
     ]
    },
    {
     "name": "stdout",
     "output_type": "stream",
     "text": [
      "[t-SNE] Computing 121 nearest neighbors...\n",
      "[t-SNE] Indexed 1443 samples in 0.000s...\n",
      "[t-SNE] Computed neighbors for 1443 samples in 0.142s...\n",
      "[t-SNE] Computed conditional probabilities for sample 1000 / 1443\n",
      "[t-SNE] Computed conditional probabilities for sample 1443 / 1443\n",
      "[t-SNE] Mean sigma: 0.043670\n",
      "[t-SNE] KL divergence after 250 iterations with early exaggeration: 61.076824\n",
      "[t-SNE] KL divergence after 300 iterations: 1.139879\n",
      "[t-SNE] Computing 121 nearest neighbors...\n",
      "[t-SNE] Indexed 1443 samples in 0.000s...\n",
      "[t-SNE] Computed neighbors for 1443 samples in 0.115s...\n",
      "[t-SNE] Computed conditional probabilities for sample 1000 / 1443\n",
      "[t-SNE] Computed conditional probabilities for sample 1443 / 1443\n",
      "[t-SNE] Mean sigma: 0.043670\n",
      "[t-SNE] KL divergence after 250 iterations with early exaggeration: 61.076767\n",
      "[t-SNE] KL divergence after 300 iterations: 1.139657\n",
      "[t-SNE] Computing 121 nearest neighbors...\n",
      "[t-SNE] Indexed 1443 samples in 0.000s...\n",
      "[t-SNE] Computed neighbors for 1443 samples in 0.125s...\n",
      "[t-SNE] Computed conditional probabilities for sample 1000 / 1443\n",
      "[t-SNE] Computed conditional probabilities for sample 1443 / 1443\n",
      "[t-SNE] Mean sigma: 0.043670\n",
      "[t-SNE] KL divergence after 250 iterations with early exaggeration: 61.076721\n",
      "[t-SNE] KL divergence after 300 iterations: 1.139804\n"
     ]
    },
    {
     "name": "stderr",
     "output_type": "stream",
     "text": [
      "14it [01:56,  8.33s/it]"
     ]
    },
    {
     "name": "stdout",
     "output_type": "stream",
     "text": [
      "[t-SNE] Computing 121 nearest neighbors...\n",
      "[t-SNE] Indexed 1443 samples in 0.000s...\n",
      "[t-SNE] Computed neighbors for 1443 samples in 0.118s...\n",
      "[t-SNE] Computed conditional probabilities for sample 1000 / 1443\n",
      "[t-SNE] Computed conditional probabilities for sample 1443 / 1443\n",
      "[t-SNE] Mean sigma: 0.043972\n",
      "[t-SNE] KL divergence after 250 iterations with early exaggeration: 60.883888\n",
      "[t-SNE] KL divergence after 300 iterations: 1.147608\n",
      "[t-SNE] Computing 121 nearest neighbors...\n",
      "[t-SNE] Indexed 1443 samples in 0.000s...\n",
      "[t-SNE] Computed neighbors for 1443 samples in 0.117s...\n",
      "[t-SNE] Computed conditional probabilities for sample 1000 / 1443\n",
      "[t-SNE] Computed conditional probabilities for sample 1443 / 1443\n",
      "[t-SNE] Mean sigma: 0.043972\n",
      "[t-SNE] KL divergence after 250 iterations with early exaggeration: 60.884079\n",
      "[t-SNE] KL divergence after 300 iterations: 1.147370\n",
      "[t-SNE] Computing 121 nearest neighbors...\n",
      "[t-SNE] Indexed 1443 samples in 0.000s...\n",
      "[t-SNE] Computed neighbors for 1443 samples in 0.120s...\n",
      "[t-SNE] Computed conditional probabilities for sample 1000 / 1443\n",
      "[t-SNE] Computed conditional probabilities for sample 1443 / 1443\n",
      "[t-SNE] Mean sigma: 0.043972\n",
      "[t-SNE] KL divergence after 250 iterations with early exaggeration: 60.884106\n",
      "[t-SNE] KL divergence after 300 iterations: 1.147379\n"
     ]
    },
    {
     "name": "stderr",
     "output_type": "stream",
     "text": [
      "15it [02:04,  8.31s/it]"
     ]
    },
    {
     "name": "stdout",
     "output_type": "stream",
     "text": [
      "[t-SNE] Computing 121 nearest neighbors...\n",
      "[t-SNE] Indexed 1443 samples in 0.000s...\n",
      "[t-SNE] Computed neighbors for 1443 samples in 0.133s...\n",
      "[t-SNE] Computed conditional probabilities for sample 1000 / 1443\n",
      "[t-SNE] Computed conditional probabilities for sample 1443 / 1443\n",
      "[t-SNE] Mean sigma: 0.043981\n",
      "[t-SNE] KL divergence after 250 iterations with early exaggeration: 60.924904\n",
      "[t-SNE] KL divergence after 300 iterations: 1.133226\n",
      "[t-SNE] Computing 121 nearest neighbors...\n",
      "[t-SNE] Indexed 1443 samples in 0.001s...\n",
      "[t-SNE] Computed neighbors for 1443 samples in 0.113s...\n",
      "[t-SNE] Computed conditional probabilities for sample 1000 / 1443\n",
      "[t-SNE] Computed conditional probabilities for sample 1443 / 1443\n",
      "[t-SNE] Mean sigma: 0.043981\n",
      "[t-SNE] KL divergence after 250 iterations with early exaggeration: 60.925079\n",
      "[t-SNE] KL divergence after 300 iterations: 1.133075\n",
      "[t-SNE] Computing 121 nearest neighbors...\n",
      "[t-SNE] Indexed 1443 samples in 0.001s...\n",
      "[t-SNE] Computed neighbors for 1443 samples in 0.126s...\n",
      "[t-SNE] Computed conditional probabilities for sample 1000 / 1443\n",
      "[t-SNE] Computed conditional probabilities for sample 1443 / 1443\n",
      "[t-SNE] Mean sigma: 0.043981\n",
      "[t-SNE] KL divergence after 250 iterations with early exaggeration: 60.924843\n",
      "[t-SNE] KL divergence after 300 iterations: 1.133345\n"
     ]
    },
    {
     "name": "stderr",
     "output_type": "stream",
     "text": [
      "16it [02:13,  8.39s/it]"
     ]
    },
    {
     "name": "stdout",
     "output_type": "stream",
     "text": [
      "[t-SNE] Computing 121 nearest neighbors...\n",
      "[t-SNE] Indexed 1443 samples in 0.001s...\n",
      "[t-SNE] Computed neighbors for 1443 samples in 0.116s...\n",
      "[t-SNE] Computed conditional probabilities for sample 1000 / 1443\n",
      "[t-SNE] Computed conditional probabilities for sample 1443 / 1443\n",
      "[t-SNE] Mean sigma: 0.042658\n",
      "[t-SNE] KL divergence after 250 iterations with early exaggeration: 61.056198\n",
      "[t-SNE] KL divergence after 300 iterations: 1.149919\n",
      "[t-SNE] Computing 121 nearest neighbors...\n",
      "[t-SNE] Indexed 1443 samples in 0.000s...\n",
      "[t-SNE] Computed neighbors for 1443 samples in 0.112s...\n",
      "[t-SNE] Computed conditional probabilities for sample 1000 / 1443\n",
      "[t-SNE] Computed conditional probabilities for sample 1443 / 1443\n",
      "[t-SNE] Mean sigma: 0.042658\n",
      "[t-SNE] KL divergence after 250 iterations with early exaggeration: 61.056301\n",
      "[t-SNE] KL divergence after 300 iterations: 1.150040\n",
      "[t-SNE] Computing 121 nearest neighbors...\n",
      "[t-SNE] Indexed 1443 samples in 0.000s...\n",
      "[t-SNE] Computed neighbors for 1443 samples in 0.116s...\n",
      "[t-SNE] Computed conditional probabilities for sample 1000 / 1443\n",
      "[t-SNE] Computed conditional probabilities for sample 1443 / 1443\n",
      "[t-SNE] Mean sigma: 0.042658\n",
      "[t-SNE] KL divergence after 250 iterations with early exaggeration: 61.056221\n",
      "[t-SNE] KL divergence after 300 iterations: 1.150014\n"
     ]
    },
    {
     "name": "stderr",
     "output_type": "stream",
     "text": [
      "17it [02:21,  8.33s/it]"
     ]
    },
    {
     "name": "stdout",
     "output_type": "stream",
     "text": [
      "[t-SNE] Computing 121 nearest neighbors...\n",
      "[t-SNE] Indexed 1443 samples in 0.000s...\n",
      "[t-SNE] Computed neighbors for 1443 samples in 0.116s...\n",
      "[t-SNE] Computed conditional probabilities for sample 1000 / 1443\n",
      "[t-SNE] Computed conditional probabilities for sample 1443 / 1443\n",
      "[t-SNE] Mean sigma: 0.043744\n",
      "[t-SNE] KL divergence after 250 iterations with early exaggeration: 61.106895\n",
      "[t-SNE] KL divergence after 300 iterations: 1.261637\n",
      "[t-SNE] Computing 121 nearest neighbors...\n",
      "[t-SNE] Indexed 1443 samples in 0.000s...\n",
      "[t-SNE] Computed neighbors for 1443 samples in 0.118s...\n",
      "[t-SNE] Computed conditional probabilities for sample 1000 / 1443\n",
      "[t-SNE] Computed conditional probabilities for sample 1443 / 1443\n",
      "[t-SNE] Mean sigma: 0.043744\n",
      "[t-SNE] KL divergence after 250 iterations with early exaggeration: 61.106998\n",
      "[t-SNE] KL divergence after 300 iterations: 1.257564\n",
      "[t-SNE] Computing 121 nearest neighbors...\n",
      "[t-SNE] Indexed 1443 samples in 0.000s...\n",
      "[t-SNE] Computed neighbors for 1443 samples in 0.140s...\n",
      "[t-SNE] Computed conditional probabilities for sample 1000 / 1443\n",
      "[t-SNE] Computed conditional probabilities for sample 1443 / 1443\n",
      "[t-SNE] Mean sigma: 0.043744\n",
      "[t-SNE] KL divergence after 250 iterations with early exaggeration: 61.106861\n",
      "[t-SNE] KL divergence after 300 iterations: 1.264941\n"
     ]
    },
    {
     "name": "stderr",
     "output_type": "stream",
     "text": [
      "18it [02:29,  8.26s/it]"
     ]
    },
    {
     "name": "stdout",
     "output_type": "stream",
     "text": [
      "[t-SNE] Computing 121 nearest neighbors...\n",
      "[t-SNE] Indexed 1443 samples in 0.000s...\n",
      "[t-SNE] Computed neighbors for 1443 samples in 0.119s...\n",
      "[t-SNE] Computed conditional probabilities for sample 1000 / 1443\n",
      "[t-SNE] Computed conditional probabilities for sample 1443 / 1443\n",
      "[t-SNE] Mean sigma: 0.043181\n",
      "[t-SNE] KL divergence after 250 iterations with early exaggeration: 60.869598\n",
      "[t-SNE] KL divergence after 300 iterations: 1.153995\n",
      "[t-SNE] Computing 121 nearest neighbors...\n",
      "[t-SNE] Indexed 1443 samples in 0.000s...\n",
      "[t-SNE] Computed neighbors for 1443 samples in 0.117s...\n",
      "[t-SNE] Computed conditional probabilities for sample 1000 / 1443\n",
      "[t-SNE] Computed conditional probabilities for sample 1443 / 1443\n",
      "[t-SNE] Mean sigma: 0.043181\n",
      "[t-SNE] KL divergence after 250 iterations with early exaggeration: 60.869606\n",
      "[t-SNE] KL divergence after 300 iterations: 1.154074\n",
      "[t-SNE] Computing 121 nearest neighbors...\n",
      "[t-SNE] Indexed 1443 samples in 0.000s...\n",
      "[t-SNE] Computed neighbors for 1443 samples in 0.119s...\n",
      "[t-SNE] Computed conditional probabilities for sample 1000 / 1443\n",
      "[t-SNE] Computed conditional probabilities for sample 1443 / 1443\n",
      "[t-SNE] Mean sigma: 0.043181\n",
      "[t-SNE] KL divergence after 250 iterations with early exaggeration: 60.869202\n",
      "[t-SNE] KL divergence after 300 iterations: 1.154377\n"
     ]
    },
    {
     "name": "stderr",
     "output_type": "stream",
     "text": [
      "19it [02:37,  8.25s/it]"
     ]
    },
    {
     "name": "stdout",
     "output_type": "stream",
     "text": [
      "[t-SNE] Computing 121 nearest neighbors...\n",
      "[t-SNE] Indexed 1443 samples in 0.001s...\n",
      "[t-SNE] Computed neighbors for 1443 samples in 0.114s...\n",
      "[t-SNE] Computed conditional probabilities for sample 1000 / 1443\n",
      "[t-SNE] Computed conditional probabilities for sample 1443 / 1443\n",
      "[t-SNE] Mean sigma: 0.043324\n",
      "[t-SNE] KL divergence after 250 iterations with early exaggeration: 60.853722\n",
      "[t-SNE] KL divergence after 300 iterations: 1.237812\n",
      "[t-SNE] Computing 121 nearest neighbors...\n",
      "[t-SNE] Indexed 1443 samples in 0.000s...\n",
      "[t-SNE] Computed neighbors for 1443 samples in 0.118s...\n",
      "[t-SNE] Computed conditional probabilities for sample 1000 / 1443\n",
      "[t-SNE] Computed conditional probabilities for sample 1443 / 1443\n",
      "[t-SNE] Mean sigma: 0.043324\n",
      "[t-SNE] KL divergence after 250 iterations with early exaggeration: 60.853626\n",
      "[t-SNE] KL divergence after 300 iterations: 1.239735\n",
      "[t-SNE] Computing 121 nearest neighbors...\n",
      "[t-SNE] Indexed 1443 samples in 0.000s...\n",
      "[t-SNE] Computed neighbors for 1443 samples in 0.126s...\n",
      "[t-SNE] Computed conditional probabilities for sample 1000 / 1443\n",
      "[t-SNE] Computed conditional probabilities for sample 1443 / 1443\n",
      "[t-SNE] Mean sigma: 0.043324\n",
      "[t-SNE] KL divergence after 250 iterations with early exaggeration: 60.853729\n",
      "[t-SNE] KL divergence after 300 iterations: 1.234177\n"
     ]
    },
    {
     "name": "stderr",
     "output_type": "stream",
     "text": [
      "20it [02:45,  8.30s/it]\n"
     ]
    }
   ],
   "source": [
    "for syn_vals, gbm_vals in tqdm(zip(syn_val_sets, gbm_val_sets)):\n",
    "    for iter in range(3):\n",
    "        # JS-PCA\n",
    "        syn_score, gbm_score = js_div(real_vals, syn_vals, gbm_vals, mode='pca')\n",
    "        eval_scores['js_pca']['syn'].append(syn_score)\n",
    "        eval_scores['js_pca']['gbm'].append(gbm_score)\n",
    "        \n",
    "        # JS-TSNE\n",
    "        syn_score, gbm_score = js_div(real_vals, syn_vals, gbm_vals, mode='tsne')\n",
    "        eval_scores['js_tsne']['syn'].append(syn_score)\n",
    "        eval_scores['js_tsne']['gbm'].append(gbm_score)\n",
    "    \n",
    "    # FID\n",
    "    syn_score = fid(real_vals, syn_vals)\n",
    "    gbm_score = fid(real_vals, gbm_vals)\n",
    "    eval_scores['fid']['syn'].append(syn_score)\n",
    "    eval_scores['fid']['gbm'].append(gbm_score)\n",
    "\n",
    "to_pkl(f'results/{LOGIR_NAME}/eval_scores.pkl', eval_scores)"
   ]
  },
  {
   "attachments": {},
   "cell_type": "markdown",
   "metadata": {},
   "source": [
    "# Run hypothesis tests"
   ]
  },
  {
   "cell_type": "code",
   "execution_count": 108,
   "metadata": {},
   "outputs": [],
   "source": [
    "from scipy.stats import ttest_ind\n",
    "eval_scores = from_pkl(f'results/{LOGIR_NAME}/eval_scores.pkl')"
   ]
  },
  {
   "cell_type": "code",
   "execution_count": 129,
   "metadata": {},
   "outputs": [],
   "source": [
    "def hypothesis_test(syn_scores, gbm_scores):\n",
    "    syn_scores = np.array(syn_scores)\n",
    "    gbm_scores = np.array(gbm_scores)\n",
    "    print(\"Synthetic:\")\n",
    "    print(f\"\\tmean  = {syn_scores.mean()}\")\n",
    "    print(f\"\\tstdev = {syn_scores.std(ddof=1)}\")\n",
    "    print(\"Benchmark:\")\n",
    "    print(f\"\\tmean  = {gbm_scores.mean()}\")\n",
    "    print(f\"\\tstdev = {gbm_scores.std(ddof=1)}\")\n",
    "\n",
    "    p_value = ttest_ind(syn_scores, gbm_scores, alternative='less').pvalue \n",
    "    print(f\"p-value = {p_value}\")"
   ]
  },
  {
   "attachments": {},
   "cell_type": "markdown",
   "metadata": {},
   "source": [
    "### PCA JS-Divergence"
   ]
  },
  {
   "cell_type": "code",
   "execution_count": 130,
   "metadata": {},
   "outputs": [
    {
     "name": "stdout",
     "output_type": "stream",
     "text": [
      "Synthetic:\n",
      "\tmean  = 1.707298352400694\n",
      "\tstdev = 0.21984733330331935\n",
      "Benchmark:\n",
      "\tmean  = 2.9157585171986753\n",
      "\tstdev = 0.3160852346897349\n",
      "p-value = 4.498388810066953e-48\n"
     ]
    }
   ],
   "source": [
    "hypothesis_test(eval_scores['js_pca']['syn'], eval_scores['js_pca']['gbm'])"
   ]
  },
  {
   "attachments": {},
   "cell_type": "markdown",
   "metadata": {},
   "source": [
    "### TSNE JS-Divergence"
   ]
  },
  {
   "cell_type": "code",
   "execution_count": 131,
   "metadata": {},
   "outputs": [
    {
     "name": "stdout",
     "output_type": "stream",
     "text": [
      "Synthetic:\n",
      "\tmean  = 0.11592539533843972\n",
      "\tstdev = 0.02346366183184622\n",
      "Benchmark:\n",
      "\tmean  = 0.23539526730343305\n",
      "\tstdev = 0.0380389882490704\n",
      "p-value = 2.1305533370886178e-41\n"
     ]
    }
   ],
   "source": [
    "hypothesis_test(eval_scores['js_tsne']['syn'], eval_scores['js_tsne']['gbm'])"
   ]
  },
  {
   "attachments": {},
   "cell_type": "markdown",
   "metadata": {},
   "source": [
    "### FID Score"
   ]
  },
  {
   "cell_type": "code",
   "execution_count": 132,
   "metadata": {},
   "outputs": [
    {
     "name": "stdout",
     "output_type": "stream",
     "text": [
      "Synthetic:\n",
      "\tmean  = 0.005537207299738115\n",
      "\tstdev = 0.0002602655675481465\n",
      "Benchmark:\n",
      "\tmean  = 0.009741208312549928\n",
      "\tstdev = 0.0003352355637506943\n",
      "p-value = 1.2785474743894853e-34\n"
     ]
    }
   ],
   "source": [
    "hypothesis_test(eval_scores['fid']['syn'], eval_scores['fid']['gbm'])"
   ]
  },
  {
   "cell_type": "code",
   "execution_count": null,
   "metadata": {},
   "outputs": [],
   "source": []
  }
 ],
 "metadata": {
  "kernelspec": {
   "display_name": "base",
   "language": "python",
   "name": "python3"
  },
  "language_info": {
   "codemirror_mode": {
    "name": "ipython",
    "version": 3
   },
   "file_extension": ".py",
   "mimetype": "text/x-python",
   "name": "python",
   "nbconvert_exporter": "python",
   "pygments_lexer": "ipython3",
   "version": "3.10.9"
  },
  "orig_nbformat": 4
 },
 "nbformat": 4,
 "nbformat_minor": 2
}
