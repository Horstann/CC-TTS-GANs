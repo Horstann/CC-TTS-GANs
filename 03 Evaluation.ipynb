{
 "cells": [
  {
   "cell_type": "code",
   "execution_count": 71,
   "metadata": {},
   "outputs": [],
   "source": [
    "import matplotlib.pyplot as plt\n",
    "from torch.utils import data\n",
    "import numpy as np\n",
    "from tqdm import tqdm\n",
    "import random\n",
    "from visualisationMetrics import *\n",
    "from dataLoader import *\n",
    "from utils.utils import to_pkl, from_pkl, js_divergence, fid\n",
    "from plotly.subplots import make_subplots\n",
    "import plotly.graph_objects as go\n",
    "from collections import defaultdict"
   ]
  },
  {
   "cell_type": "code",
   "execution_count": 73,
   "metadata": {},
   "outputs": [],
   "source": [
    "NSETS = 20\n",
    "LOGIR_NAME = 'var'\n",
    "\n",
    "if not os.path.exists(f'results/{LOGIR_NAME}/'):\n",
    "    os.mkdir(f'results/{LOGIR_NAME}/')"
   ]
  },
  {
   "attachments": {},
   "cell_type": "markdown",
   "metadata": {},
   "source": [
    "# Load results"
   ]
  },
  {
   "attachments": {},
   "cell_type": "markdown",
   "metadata": {},
   "source": [
    "### Load real data"
   ]
  },
  {
   "cell_type": "code",
   "execution_count": 48,
   "metadata": {},
   "outputs": [
    {
     "name": "stderr",
     "output_type": "stream",
     "text": [
      "[*********************100%%**********************]  1 of 1 completed\n"
     ]
    },
    {
     "name": "stdout",
     "output_type": "stream",
     "text": [
      "X_train's shape is (4328, 1, 1, 2), X_test's shape is (481, 1, 1, 2)\n",
      "y_train's label shape is (4328, 1, 1, 43), y_test's label shape is (481, 1, 1, 43)\n",
      "(481, 1, 43)\n",
      "(481, 1, 2)\n",
      "(481, 43, 1)\n"
     ]
    }
   ],
   "source": [
    "real_data = load_dataset(data_mode='Train')\n",
    "real_dataloader = data.DataLoader(real_data, batch_size=1, num_workers=1, shuffle=True)\n",
    "\n",
    "real_paths = []\n",
    "real_conds = []\n",
    "\n",
    "for i, (cond, sim) in enumerate(real_dataloader):\n",
    "    sim = sim.cpu().detach().numpy()\n",
    "    sim = sim.reshape(sim.shape[1], sim.shape[3])\n",
    "    real_paths.append(sim)\n",
    "    cond = cond.cpu().detach().numpy()\n",
    "    cond = cond.reshape(cond.shape[1], cond.shape[3])\n",
    "    real_conds.append(cond)\n",
    "\n",
    "real_paths = np.array(real_paths)\n",
    "real_conds = np.array(real_conds)\n",
    "print(real_paths.shape)\n",
    "print(real_conds.shape)\n",
    "\n",
    "real_vals = np.transpose(real_paths, (0,2,1))\n",
    "print(real_vals.shape)\n",
    "to_pkl(f'results/real_vals.pkl', real_vals)"
   ]
  },
  {
   "attachments": {},
   "cell_type": "markdown",
   "metadata": {},
   "source": [
    "### Load synthetic data"
   ]
  },
  {
   "cell_type": "code",
   "execution_count": 74,
   "metadata": {},
   "outputs": [],
   "source": [
    "from LoadSynthetic import *"
   ]
  },
  {
   "cell_type": "code",
   "execution_count": 75,
   "metadata": {},
   "outputs": [],
   "source": [
    "def get_syn_vals(model_path=f'./logs/{LOGIR_NAME}/Model/checkpoint', n=10, **kwargs):\n",
    "    syn_data = Synthetic_Dataset(model_path=model_path, n=n, dataset=real_data, seq_len=real_data.output_size, conditions_dim=real_data.X_train.shape[-1], **kwargs)\n",
    "    dataloader = data.DataLoader(syn_data, batch_size=1, num_workers=1, shuffle=True, **kwargs)\n",
    "\n",
    "    paths = []\n",
    "    conds = []\n",
    "\n",
    "    for i, (cond, sim) in enumerate(dataloader):\n",
    "        sim = sim.cpu().detach().numpy()\n",
    "        sim = sim.reshape(sim.shape[1], sim.shape[3])\n",
    "        paths.append(sim)\n",
    "        cond = cond.cpu().detach().numpy()\n",
    "        cond = cond.reshape(cond.shape[1], cond.shape[3])\n",
    "        conds.append(cond)\n",
    "        \n",
    "    paths = np.array(paths)\n",
    "    conds = np.array(conds)\n",
    "    vals = np.transpose(paths, (0,2,1))\n",
    "    np.random.shuffle(vals)\n",
    "    return vals\n",
    "\n",
    "def get_syn_val_sets(nsets, **kwargs):\n",
    "    val_sets = []\n",
    "    for i in range(nsets):\n",
    "        val_sets.append(get_syn_vals(**kwargs))\n",
    "    return val_sets"
   ]
  },
  {
   "cell_type": "code",
   "execution_count": 76,
   "metadata": {},
   "outputs": [],
   "source": [
    "syn_val_sets = get_syn_val_sets(nsets=NSETS)\n",
    "to_pkl(f'results/{LOGIR_NAME}/syn_val_sets.pkl', syn_val_sets)"
   ]
  },
  {
   "attachments": {},
   "cell_type": "markdown",
   "metadata": {},
   "source": [
    "### Load benchmark data"
   ]
  },
  {
   "cell_type": "code",
   "execution_count": 52,
   "metadata": {},
   "outputs": [],
   "source": [
    "from utils.utils import GBM_Simulator"
   ]
  },
  {
   "cell_type": "code",
   "execution_count": 53,
   "metadata": {},
   "outputs": [],
   "source": [
    "def get_gbm_vals(n=10, **kwargs):\n",
    "    simulator = GBM_Simulator(dataset=real_data, nsamples=n)\n",
    "    paths = simulator.run()\n",
    "    paths = np.reshape(paths, (-1,1,paths.shape[-1]))\n",
    "\n",
    "    vals = np.transpose(paths, (0, 2, 1))\n",
    "    np.random.shuffle(vals)\n",
    "    return vals\n",
    "\n",
    "def get_gbm_val_sets(nsets, **kwargs):\n",
    "    val_sets = []\n",
    "    for i in range(nsets):\n",
    "        val_sets.append(get_syn_vals(**kwargs))\n",
    "    return val_sets"
   ]
  },
  {
   "cell_type": "code",
   "execution_count": 54,
   "metadata": {},
   "outputs": [],
   "source": [
    "gbm_val_sets = get_gbm_val_sets(nsets=NSETS)\n",
    "to_pkl(f'results/gbm_val_sets.pkl', gbm_val_sets)"
   ]
  },
  {
   "attachments": {},
   "cell_type": "markdown",
   "metadata": {},
   "source": [
    "# Run evaluations"
   ]
  },
  {
   "cell_type": "code",
   "execution_count": 77,
   "metadata": {},
   "outputs": [],
   "source": [
    "real_vals = from_pkl(f'results/real_vals.pkl')\n",
    "syn_val_sets = from_pkl(f'results/{LOGIR_NAME}/syn_val_sets.pkl')\n",
    "gbm_val_sets = from_pkl(f'results/gbm_val_sets.pkl')"
   ]
  },
  {
   "cell_type": "code",
   "execution_count": 78,
   "metadata": {},
   "outputs": [],
   "source": [
    "eval_scores = {\n",
    "    'js_pca': {\n",
    "        'syn': [],\n",
    "        'gbm': []\n",
    "    },\n",
    "    'js_tsne': {\n",
    "        'syn': [],\n",
    "        'gbm': []\n",
    "    },\n",
    "    'fid': {\n",
    "        'syn': [],\n",
    "        'gbm': []\n",
    "    }\n",
    "}"
   ]
  },
  {
   "cell_type": "code",
   "execution_count": 79,
   "metadata": {},
   "outputs": [],
   "source": [
    "def js_div(real_vals, syn_vals, gbm_vals, mode, n_components=10, **kwargs):\n",
    "    real, syn, gbm = dim_reduction([real_vals, syn_vals, gbm_vals], n_components=n_components, mode=mode, **kwargs)\n",
    "    syn_score = js_divergence(real, syn, verbose=False)\n",
    "    gbm_score = js_divergence(real, gbm, verbose=False)\n",
    "    return syn_score, gbm_score"
   ]
  },
  {
   "cell_type": "code",
   "execution_count": 80,
   "metadata": {},
   "outputs": [
    {
     "name": "stderr",
     "output_type": "stream",
     "text": [
      "0it [00:00, ?it/s]"
     ]
    },
    {
     "name": "stdout",
     "output_type": "stream",
     "text": [
      "[t-SNE] Computing 121 nearest neighbors...\n",
      "[t-SNE] Indexed 1443 samples in 0.002s...\n",
      "[t-SNE] Computed neighbors for 1443 samples in 0.146s...\n",
      "[t-SNE] Computed conditional probabilities for sample 1000 / 1443\n",
      "[t-SNE] Computed conditional probabilities for sample 1443 / 1443\n",
      "[t-SNE] Mean sigma: 0.043239\n",
      "[t-SNE] KL divergence after 250 iterations with early exaggeration: 61.151970\n",
      "[t-SNE] KL divergence after 300 iterations: 1.257519\n",
      "[t-SNE] Computing 121 nearest neighbors...\n",
      "[t-SNE] Indexed 1443 samples in 0.000s...\n",
      "[t-SNE] Computed neighbors for 1443 samples in 0.126s...\n",
      "[t-SNE] Computed conditional probabilities for sample 1000 / 1443\n",
      "[t-SNE] Computed conditional probabilities for sample 1443 / 1443\n",
      "[t-SNE] Mean sigma: 0.043239\n",
      "[t-SNE] KL divergence after 250 iterations with early exaggeration: 61.151867\n",
      "[t-SNE] KL divergence after 300 iterations: 1.176743\n",
      "[t-SNE] Computing 121 nearest neighbors...\n",
      "[t-SNE] Indexed 1443 samples in 0.000s...\n",
      "[t-SNE] Computed neighbors for 1443 samples in 0.125s...\n",
      "[t-SNE] Computed conditional probabilities for sample 1000 / 1443\n",
      "[t-SNE] Computed conditional probabilities for sample 1443 / 1443\n",
      "[t-SNE] Mean sigma: 0.043239\n",
      "[t-SNE] KL divergence after 250 iterations with early exaggeration: 61.151787\n",
      "[t-SNE] KL divergence after 300 iterations: 1.171697\n"
     ]
    },
    {
     "name": "stderr",
     "output_type": "stream",
     "text": [
      "1it [00:07,  7.46s/it]"
     ]
    },
    {
     "name": "stdout",
     "output_type": "stream",
     "text": [
      "[t-SNE] Computing 121 nearest neighbors...\n",
      "[t-SNE] Indexed 1443 samples in 0.001s...\n",
      "[t-SNE] Computed neighbors for 1443 samples in 0.131s...\n",
      "[t-SNE] Computed conditional probabilities for sample 1000 / 1443\n",
      "[t-SNE] Computed conditional probabilities for sample 1443 / 1443\n",
      "[t-SNE] Mean sigma: 0.044197\n",
      "[t-SNE] KL divergence after 250 iterations with early exaggeration: 60.915894\n",
      "[t-SNE] KL divergence after 300 iterations: 1.142146\n",
      "[t-SNE] Computing 121 nearest neighbors...\n",
      "[t-SNE] Indexed 1443 samples in 0.000s...\n",
      "[t-SNE] Computed neighbors for 1443 samples in 0.116s...\n",
      "[t-SNE] Computed conditional probabilities for sample 1000 / 1443\n",
      "[t-SNE] Computed conditional probabilities for sample 1443 / 1443\n",
      "[t-SNE] Mean sigma: 0.044197\n",
      "[t-SNE] KL divergence after 250 iterations with early exaggeration: 60.916016\n",
      "[t-SNE] KL divergence after 300 iterations: 1.142514\n",
      "[t-SNE] Computing 121 nearest neighbors...\n",
      "[t-SNE] Indexed 1443 samples in 0.000s...\n",
      "[t-SNE] Computed neighbors for 1443 samples in 0.119s...\n",
      "[t-SNE] Computed conditional probabilities for sample 1000 / 1443\n",
      "[t-SNE] Computed conditional probabilities for sample 1443 / 1443\n",
      "[t-SNE] Mean sigma: 0.044197\n",
      "[t-SNE] KL divergence after 250 iterations with early exaggeration: 60.915661\n",
      "[t-SNE] KL divergence after 300 iterations: 1.142545\n"
     ]
    },
    {
     "name": "stderr",
     "output_type": "stream",
     "text": [
      "2it [00:15,  7.96s/it]"
     ]
    },
    {
     "name": "stdout",
     "output_type": "stream",
     "text": [
      "[t-SNE] Computing 121 nearest neighbors...\n",
      "[t-SNE] Indexed 1443 samples in 0.000s...\n",
      "[t-SNE] Computed neighbors for 1443 samples in 0.124s...\n",
      "[t-SNE] Computed conditional probabilities for sample 1000 / 1443\n",
      "[t-SNE] Computed conditional probabilities for sample 1443 / 1443\n",
      "[t-SNE] Mean sigma: 0.043925\n",
      "[t-SNE] KL divergence after 250 iterations with early exaggeration: 61.040787\n",
      "[t-SNE] KL divergence after 300 iterations: 1.145016\n",
      "[t-SNE] Computing 121 nearest neighbors...\n",
      "[t-SNE] Indexed 1443 samples in 0.000s...\n",
      "[t-SNE] Computed neighbors for 1443 samples in 0.116s...\n",
      "[t-SNE] Computed conditional probabilities for sample 1000 / 1443\n",
      "[t-SNE] Computed conditional probabilities for sample 1443 / 1443\n",
      "[t-SNE] Mean sigma: 0.043925\n",
      "[t-SNE] KL divergence after 250 iterations with early exaggeration: 61.041096\n",
      "[t-SNE] KL divergence after 300 iterations: 1.144630\n",
      "[t-SNE] Computing 121 nearest neighbors...\n",
      "[t-SNE] Indexed 1443 samples in 0.000s...\n",
      "[t-SNE] Computed neighbors for 1443 samples in 0.122s...\n",
      "[t-SNE] Computed conditional probabilities for sample 1000 / 1443\n",
      "[t-SNE] Computed conditional probabilities for sample 1443 / 1443\n",
      "[t-SNE] Mean sigma: 0.043925\n",
      "[t-SNE] KL divergence after 250 iterations with early exaggeration: 61.040695\n",
      "[t-SNE] KL divergence after 300 iterations: 1.145002\n"
     ]
    },
    {
     "name": "stderr",
     "output_type": "stream",
     "text": [
      "3it [00:24,  8.11s/it]"
     ]
    },
    {
     "name": "stdout",
     "output_type": "stream",
     "text": [
      "[t-SNE] Computing 121 nearest neighbors...\n",
      "[t-SNE] Indexed 1443 samples in 0.000s...\n",
      "[t-SNE] Computed neighbors for 1443 samples in 0.115s...\n",
      "[t-SNE] Computed conditional probabilities for sample 1000 / 1443\n",
      "[t-SNE] Computed conditional probabilities for sample 1443 / 1443\n",
      "[t-SNE] Mean sigma: 0.044174\n",
      "[t-SNE] KL divergence after 250 iterations with early exaggeration: 60.813660\n",
      "[t-SNE] KL divergence after 300 iterations: 1.164260\n",
      "[t-SNE] Computing 121 nearest neighbors...\n",
      "[t-SNE] Indexed 1443 samples in 0.001s...\n",
      "[t-SNE] Computed neighbors for 1443 samples in 0.127s...\n",
      "[t-SNE] Computed conditional probabilities for sample 1000 / 1443\n",
      "[t-SNE] Computed conditional probabilities for sample 1443 / 1443\n",
      "[t-SNE] Mean sigma: 0.044174\n",
      "[t-SNE] KL divergence after 250 iterations with early exaggeration: 60.814171\n",
      "[t-SNE] KL divergence after 300 iterations: 1.167822\n",
      "[t-SNE] Computing 121 nearest neighbors...\n",
      "[t-SNE] Indexed 1443 samples in 0.000s...\n",
      "[t-SNE] Computed neighbors for 1443 samples in 0.118s...\n",
      "[t-SNE] Computed conditional probabilities for sample 1000 / 1443\n",
      "[t-SNE] Computed conditional probabilities for sample 1443 / 1443\n",
      "[t-SNE] Mean sigma: 0.044174\n",
      "[t-SNE] KL divergence after 250 iterations with early exaggeration: 60.813992\n",
      "[t-SNE] KL divergence after 300 iterations: 1.160197\n"
     ]
    },
    {
     "name": "stderr",
     "output_type": "stream",
     "text": [
      "4it [00:32,  8.15s/it]"
     ]
    },
    {
     "name": "stdout",
     "output_type": "stream",
     "text": [
      "[t-SNE] Computing 121 nearest neighbors...\n",
      "[t-SNE] Indexed 1443 samples in 0.000s...\n",
      "[t-SNE] Computed neighbors for 1443 samples in 0.130s...\n",
      "[t-SNE] Computed conditional probabilities for sample 1000 / 1443\n",
      "[t-SNE] Computed conditional probabilities for sample 1443 / 1443\n",
      "[t-SNE] Mean sigma: 0.044004\n",
      "[t-SNE] KL divergence after 250 iterations with early exaggeration: 61.001556\n",
      "[t-SNE] KL divergence after 300 iterations: 1.260031\n",
      "[t-SNE] Computing 121 nearest neighbors...\n",
      "[t-SNE] Indexed 1443 samples in 0.000s...\n",
      "[t-SNE] Computed neighbors for 1443 samples in 0.136s...\n",
      "[t-SNE] Computed conditional probabilities for sample 1000 / 1443\n",
      "[t-SNE] Computed conditional probabilities for sample 1443 / 1443\n",
      "[t-SNE] Mean sigma: 0.044004\n",
      "[t-SNE] KL divergence after 250 iterations with early exaggeration: 61.002079\n",
      "[t-SNE] KL divergence after 300 iterations: 1.273385\n",
      "[t-SNE] Computing 121 nearest neighbors...\n",
      "[t-SNE] Indexed 1443 samples in 0.000s...\n",
      "[t-SNE] Computed neighbors for 1443 samples in 0.128s...\n",
      "[t-SNE] Computed conditional probabilities for sample 1000 / 1443\n",
      "[t-SNE] Computed conditional probabilities for sample 1443 / 1443\n",
      "[t-SNE] Mean sigma: 0.044004\n",
      "[t-SNE] KL divergence after 250 iterations with early exaggeration: 61.002228\n",
      "[t-SNE] KL divergence after 300 iterations: 1.270998\n"
     ]
    },
    {
     "name": "stderr",
     "output_type": "stream",
     "text": [
      "5it [00:41,  8.42s/it]"
     ]
    },
    {
     "name": "stdout",
     "output_type": "stream",
     "text": [
      "[t-SNE] Computing 121 nearest neighbors...\n",
      "[t-SNE] Indexed 1443 samples in 0.000s...\n",
      "[t-SNE] Computed neighbors for 1443 samples in 0.122s...\n",
      "[t-SNE] Computed conditional probabilities for sample 1000 / 1443\n",
      "[t-SNE] Computed conditional probabilities for sample 1443 / 1443\n",
      "[t-SNE] Mean sigma: 0.043673\n",
      "[t-SNE] KL divergence after 250 iterations with early exaggeration: 60.911774\n",
      "[t-SNE] KL divergence after 300 iterations: 1.152778\n",
      "[t-SNE] Computing 121 nearest neighbors...\n",
      "[t-SNE] Indexed 1443 samples in 0.000s...\n",
      "[t-SNE] Computed neighbors for 1443 samples in 0.131s...\n",
      "[t-SNE] Computed conditional probabilities for sample 1000 / 1443\n",
      "[t-SNE] Computed conditional probabilities for sample 1443 / 1443\n",
      "[t-SNE] Mean sigma: 0.043673\n",
      "[t-SNE] KL divergence after 250 iterations with early exaggeration: 60.911915\n",
      "[t-SNE] KL divergence after 300 iterations: 1.152907\n",
      "[t-SNE] Computing 121 nearest neighbors...\n",
      "[t-SNE] Indexed 1443 samples in 0.000s...\n",
      "[t-SNE] Computed neighbors for 1443 samples in 0.126s...\n",
      "[t-SNE] Computed conditional probabilities for sample 1000 / 1443\n",
      "[t-SNE] Computed conditional probabilities for sample 1443 / 1443\n",
      "[t-SNE] Mean sigma: 0.043673\n",
      "[t-SNE] KL divergence after 250 iterations with early exaggeration: 60.911705\n",
      "[t-SNE] KL divergence after 300 iterations: 1.152849\n"
     ]
    },
    {
     "name": "stderr",
     "output_type": "stream",
     "text": [
      "6it [00:49,  8.36s/it]"
     ]
    },
    {
     "name": "stdout",
     "output_type": "stream",
     "text": [
      "[t-SNE] Computing 121 nearest neighbors...\n",
      "[t-SNE] Indexed 1443 samples in 0.000s...\n",
      "[t-SNE] Computed neighbors for 1443 samples in 0.123s...\n",
      "[t-SNE] Computed conditional probabilities for sample 1000 / 1443\n",
      "[t-SNE] Computed conditional probabilities for sample 1443 / 1443\n",
      "[t-SNE] Mean sigma: 0.043594\n",
      "[t-SNE] KL divergence after 250 iterations with early exaggeration: 61.193027\n",
      "[t-SNE] KL divergence after 300 iterations: 1.213035\n",
      "[t-SNE] Computing 121 nearest neighbors...\n",
      "[t-SNE] Indexed 1443 samples in 0.000s...\n",
      "[t-SNE] Computed neighbors for 1443 samples in 0.136s...\n",
      "[t-SNE] Computed conditional probabilities for sample 1000 / 1443\n",
      "[t-SNE] Computed conditional probabilities for sample 1443 / 1443\n",
      "[t-SNE] Mean sigma: 0.043594\n",
      "[t-SNE] KL divergence after 250 iterations with early exaggeration: 61.193077\n",
      "[t-SNE] KL divergence after 300 iterations: 1.209943\n",
      "[t-SNE] Computing 121 nearest neighbors...\n",
      "[t-SNE] Indexed 1443 samples in 0.000s...\n",
      "[t-SNE] Computed neighbors for 1443 samples in 0.128s...\n",
      "[t-SNE] Computed conditional probabilities for sample 1000 / 1443\n",
      "[t-SNE] Computed conditional probabilities for sample 1443 / 1443\n",
      "[t-SNE] Mean sigma: 0.043594\n",
      "[t-SNE] KL divergence after 250 iterations with early exaggeration: 61.193142\n",
      "[t-SNE] KL divergence after 300 iterations: 1.215657\n"
     ]
    },
    {
     "name": "stderr",
     "output_type": "stream",
     "text": [
      "7it [00:58,  8.54s/it]"
     ]
    },
    {
     "name": "stdout",
     "output_type": "stream",
     "text": [
      "[t-SNE] Computing 121 nearest neighbors...\n",
      "[t-SNE] Indexed 1443 samples in 0.000s...\n",
      "[t-SNE] Computed neighbors for 1443 samples in 0.140s...\n",
      "[t-SNE] Computed conditional probabilities for sample 1000 / 1443\n",
      "[t-SNE] Computed conditional probabilities for sample 1443 / 1443\n",
      "[t-SNE] Mean sigma: 0.044172\n",
      "[t-SNE] KL divergence after 250 iterations with early exaggeration: 61.241001\n",
      "[t-SNE] KL divergence after 300 iterations: 1.146409\n",
      "[t-SNE] Computing 121 nearest neighbors...\n",
      "[t-SNE] Indexed 1443 samples in 0.000s...\n",
      "[t-SNE] Computed neighbors for 1443 samples in 0.136s...\n",
      "[t-SNE] Computed conditional probabilities for sample 1000 / 1443\n",
      "[t-SNE] Computed conditional probabilities for sample 1443 / 1443\n",
      "[t-SNE] Mean sigma: 0.044172\n",
      "[t-SNE] KL divergence after 250 iterations with early exaggeration: 61.241219\n",
      "[t-SNE] KL divergence after 300 iterations: 1.146343\n",
      "[t-SNE] Computing 121 nearest neighbors...\n",
      "[t-SNE] Indexed 1443 samples in 0.000s...\n",
      "[t-SNE] Computed neighbors for 1443 samples in 0.147s...\n",
      "[t-SNE] Computed conditional probabilities for sample 1000 / 1443\n",
      "[t-SNE] Computed conditional probabilities for sample 1443 / 1443\n",
      "[t-SNE] Mean sigma: 0.044172\n",
      "[t-SNE] KL divergence after 250 iterations with early exaggeration: 61.241325\n",
      "[t-SNE] KL divergence after 300 iterations: 1.146247\n"
     ]
    },
    {
     "name": "stderr",
     "output_type": "stream",
     "text": [
      "8it [01:07,  8.87s/it]"
     ]
    },
    {
     "name": "stdout",
     "output_type": "stream",
     "text": [
      "[t-SNE] Computing 121 nearest neighbors...\n",
      "[t-SNE] Indexed 1443 samples in 0.001s...\n",
      "[t-SNE] Computed neighbors for 1443 samples in 0.130s...\n",
      "[t-SNE] Computed conditional probabilities for sample 1000 / 1443\n",
      "[t-SNE] Computed conditional probabilities for sample 1443 / 1443\n",
      "[t-SNE] Mean sigma: 0.044045\n",
      "[t-SNE] KL divergence after 250 iterations with early exaggeration: 61.077137\n",
      "[t-SNE] KL divergence after 300 iterations: 1.140368\n",
      "[t-SNE] Computing 121 nearest neighbors...\n",
      "[t-SNE] Indexed 1443 samples in 0.001s...\n",
      "[t-SNE] Computed neighbors for 1443 samples in 0.132s...\n",
      "[t-SNE] Computed conditional probabilities for sample 1000 / 1443\n",
      "[t-SNE] Computed conditional probabilities for sample 1443 / 1443\n",
      "[t-SNE] Mean sigma: 0.044045\n",
      "[t-SNE] KL divergence after 250 iterations with early exaggeration: 61.077705\n",
      "[t-SNE] KL divergence after 300 iterations: 1.140323\n",
      "[t-SNE] Computing 121 nearest neighbors...\n",
      "[t-SNE] Indexed 1443 samples in 0.000s...\n",
      "[t-SNE] Computed neighbors for 1443 samples in 0.115s...\n",
      "[t-SNE] Computed conditional probabilities for sample 1000 / 1443\n",
      "[t-SNE] Computed conditional probabilities for sample 1443 / 1443\n",
      "[t-SNE] Mean sigma: 0.044045\n",
      "[t-SNE] KL divergence after 250 iterations with early exaggeration: 61.077717\n",
      "[t-SNE] KL divergence after 300 iterations: 1.140510\n"
     ]
    },
    {
     "name": "stderr",
     "output_type": "stream",
     "text": [
      "9it [01:17,  8.96s/it]"
     ]
    },
    {
     "name": "stdout",
     "output_type": "stream",
     "text": [
      "[t-SNE] Computing 121 nearest neighbors...\n",
      "[t-SNE] Indexed 1443 samples in 0.000s...\n",
      "[t-SNE] Computed neighbors for 1443 samples in 0.116s...\n",
      "[t-SNE] Computed conditional probabilities for sample 1000 / 1443\n",
      "[t-SNE] Computed conditional probabilities for sample 1443 / 1443\n",
      "[t-SNE] Mean sigma: 0.044281\n",
      "[t-SNE] KL divergence after 250 iterations with early exaggeration: 61.154217\n",
      "[t-SNE] KL divergence after 300 iterations: 1.149751\n",
      "[t-SNE] Computing 121 nearest neighbors...\n",
      "[t-SNE] Indexed 1443 samples in 0.000s...\n",
      "[t-SNE] Computed neighbors for 1443 samples in 0.123s...\n",
      "[t-SNE] Computed conditional probabilities for sample 1000 / 1443\n",
      "[t-SNE] Computed conditional probabilities for sample 1443 / 1443\n",
      "[t-SNE] Mean sigma: 0.044281\n",
      "[t-SNE] KL divergence after 250 iterations with early exaggeration: 61.154018\n",
      "[t-SNE] KL divergence after 300 iterations: 1.149569\n",
      "[t-SNE] Computing 121 nearest neighbors...\n",
      "[t-SNE] Indexed 1443 samples in 0.001s...\n",
      "[t-SNE] Computed neighbors for 1443 samples in 0.117s...\n",
      "[t-SNE] Computed conditional probabilities for sample 1000 / 1443\n",
      "[t-SNE] Computed conditional probabilities for sample 1443 / 1443\n",
      "[t-SNE] Mean sigma: 0.044281\n",
      "[t-SNE] KL divergence after 250 iterations with early exaggeration: 61.154160\n",
      "[t-SNE] KL divergence after 300 iterations: 1.149735\n"
     ]
    },
    {
     "name": "stderr",
     "output_type": "stream",
     "text": [
      "10it [01:25,  8.73s/it]"
     ]
    },
    {
     "name": "stdout",
     "output_type": "stream",
     "text": [
      "[t-SNE] Computing 121 nearest neighbors...\n",
      "[t-SNE] Indexed 1443 samples in 0.001s...\n",
      "[t-SNE] Computed neighbors for 1443 samples in 0.120s...\n",
      "[t-SNE] Computed conditional probabilities for sample 1000 / 1443\n",
      "[t-SNE] Computed conditional probabilities for sample 1443 / 1443\n",
      "[t-SNE] Mean sigma: 0.043689\n",
      "[t-SNE] KL divergence after 250 iterations with early exaggeration: 61.078690\n",
      "[t-SNE] KL divergence after 300 iterations: 1.228680\n",
      "[t-SNE] Computing 121 nearest neighbors...\n",
      "[t-SNE] Indexed 1443 samples in 0.000s...\n",
      "[t-SNE] Computed neighbors for 1443 samples in 0.123s...\n",
      "[t-SNE] Computed conditional probabilities for sample 1000 / 1443\n",
      "[t-SNE] Computed conditional probabilities for sample 1443 / 1443\n",
      "[t-SNE] Mean sigma: 0.043689\n",
      "[t-SNE] KL divergence after 250 iterations with early exaggeration: 61.078793\n",
      "[t-SNE] KL divergence after 300 iterations: 1.230539\n",
      "[t-SNE] Computing 121 nearest neighbors...\n",
      "[t-SNE] Indexed 1443 samples in 0.001s...\n",
      "[t-SNE] Computed neighbors for 1443 samples in 0.126s...\n",
      "[t-SNE] Computed conditional probabilities for sample 1000 / 1443\n",
      "[t-SNE] Computed conditional probabilities for sample 1443 / 1443\n",
      "[t-SNE] Mean sigma: 0.043689\n",
      "[t-SNE] KL divergence after 250 iterations with early exaggeration: 61.078644\n",
      "[t-SNE] KL divergence after 300 iterations: 1.226527\n"
     ]
    },
    {
     "name": "stderr",
     "output_type": "stream",
     "text": [
      "11it [01:33,  8.63s/it]"
     ]
    },
    {
     "name": "stdout",
     "output_type": "stream",
     "text": [
      "[t-SNE] Computing 121 nearest neighbors...\n",
      "[t-SNE] Indexed 1443 samples in 0.000s...\n",
      "[t-SNE] Computed neighbors for 1443 samples in 0.119s...\n",
      "[t-SNE] Computed conditional probabilities for sample 1000 / 1443\n",
      "[t-SNE] Computed conditional probabilities for sample 1443 / 1443\n",
      "[t-SNE] Mean sigma: 0.043282\n",
      "[t-SNE] KL divergence after 250 iterations with early exaggeration: 61.037380\n",
      "[t-SNE] KL divergence after 300 iterations: 1.152056\n",
      "[t-SNE] Computing 121 nearest neighbors...\n",
      "[t-SNE] Indexed 1443 samples in 0.000s...\n",
      "[t-SNE] Computed neighbors for 1443 samples in 0.129s...\n",
      "[t-SNE] Computed conditional probabilities for sample 1000 / 1443\n",
      "[t-SNE] Computed conditional probabilities for sample 1443 / 1443\n",
      "[t-SNE] Mean sigma: 0.043282\n",
      "[t-SNE] KL divergence after 250 iterations with early exaggeration: 61.036934\n",
      "[t-SNE] KL divergence after 300 iterations: 1.151733\n",
      "[t-SNE] Computing 121 nearest neighbors...\n",
      "[t-SNE] Indexed 1443 samples in 0.000s...\n",
      "[t-SNE] Computed neighbors for 1443 samples in 0.127s...\n",
      "[t-SNE] Computed conditional probabilities for sample 1000 / 1443\n",
      "[t-SNE] Computed conditional probabilities for sample 1443 / 1443\n",
      "[t-SNE] Mean sigma: 0.043282\n",
      "[t-SNE] KL divergence after 250 iterations with early exaggeration: 61.037254\n",
      "[t-SNE] KL divergence after 300 iterations: 1.151821\n"
     ]
    },
    {
     "name": "stderr",
     "output_type": "stream",
     "text": [
      "12it [01:41,  8.48s/it]"
     ]
    },
    {
     "name": "stdout",
     "output_type": "stream",
     "text": [
      "[t-SNE] Computing 121 nearest neighbors...\n",
      "[t-SNE] Indexed 1443 samples in 0.001s...\n",
      "[t-SNE] Computed neighbors for 1443 samples in 0.133s...\n",
      "[t-SNE] Computed conditional probabilities for sample 1000 / 1443\n",
      "[t-SNE] Computed conditional probabilities for sample 1443 / 1443\n",
      "[t-SNE] Mean sigma: 0.044399\n",
      "[t-SNE] KL divergence after 250 iterations with early exaggeration: 60.965885\n",
      "[t-SNE] KL divergence after 300 iterations: 1.155299\n",
      "[t-SNE] Computing 121 nearest neighbors...\n",
      "[t-SNE] Indexed 1443 samples in 0.000s...\n",
      "[t-SNE] Computed neighbors for 1443 samples in 0.115s...\n",
      "[t-SNE] Computed conditional probabilities for sample 1000 / 1443\n",
      "[t-SNE] Computed conditional probabilities for sample 1443 / 1443\n",
      "[t-SNE] Mean sigma: 0.044399\n",
      "[t-SNE] KL divergence after 250 iterations with early exaggeration: 60.964943\n",
      "[t-SNE] KL divergence after 300 iterations: 1.154970\n",
      "[t-SNE] Computing 121 nearest neighbors...\n",
      "[t-SNE] Indexed 1443 samples in 0.000s...\n",
      "[t-SNE] Computed neighbors for 1443 samples in 0.122s...\n",
      "[t-SNE] Computed conditional probabilities for sample 1000 / 1443\n",
      "[t-SNE] Computed conditional probabilities for sample 1443 / 1443\n",
      "[t-SNE] Mean sigma: 0.044399\n",
      "[t-SNE] KL divergence after 250 iterations with early exaggeration: 60.965012\n",
      "[t-SNE] KL divergence after 300 iterations: 1.154230\n"
     ]
    },
    {
     "name": "stderr",
     "output_type": "stream",
     "text": [
      "13it [01:49,  8.39s/it]"
     ]
    },
    {
     "name": "stdout",
     "output_type": "stream",
     "text": [
      "[t-SNE] Computing 121 nearest neighbors...\n",
      "[t-SNE] Indexed 1443 samples in 0.001s...\n",
      "[t-SNE] Computed neighbors for 1443 samples in 0.124s...\n",
      "[t-SNE] Computed conditional probabilities for sample 1000 / 1443\n",
      "[t-SNE] Computed conditional probabilities for sample 1443 / 1443\n",
      "[t-SNE] Mean sigma: 0.043826\n",
      "[t-SNE] KL divergence after 250 iterations with early exaggeration: 60.975708\n",
      "[t-SNE] KL divergence after 300 iterations: 1.136909\n",
      "[t-SNE] Computing 121 nearest neighbors...\n",
      "[t-SNE] Indexed 1443 samples in 0.000s...\n",
      "[t-SNE] Computed neighbors for 1443 samples in 0.122s...\n",
      "[t-SNE] Computed conditional probabilities for sample 1000 / 1443\n",
      "[t-SNE] Computed conditional probabilities for sample 1443 / 1443\n",
      "[t-SNE] Mean sigma: 0.043826\n",
      "[t-SNE] KL divergence after 250 iterations with early exaggeration: 60.976185\n",
      "[t-SNE] KL divergence after 300 iterations: 1.136968\n",
      "[t-SNE] Computing 121 nearest neighbors...\n",
      "[t-SNE] Indexed 1443 samples in 0.000s...\n",
      "[t-SNE] Computed neighbors for 1443 samples in 0.119s...\n",
      "[t-SNE] Computed conditional probabilities for sample 1000 / 1443\n",
      "[t-SNE] Computed conditional probabilities for sample 1443 / 1443\n",
      "[t-SNE] Mean sigma: 0.043826\n",
      "[t-SNE] KL divergence after 250 iterations with early exaggeration: 60.975922\n",
      "[t-SNE] KL divergence after 300 iterations: 1.137220\n"
     ]
    },
    {
     "name": "stderr",
     "output_type": "stream",
     "text": [
      "14it [01:58,  8.30s/it]"
     ]
    },
    {
     "name": "stdout",
     "output_type": "stream",
     "text": [
      "[t-SNE] Computing 121 nearest neighbors...\n",
      "[t-SNE] Indexed 1443 samples in 0.001s...\n",
      "[t-SNE] Computed neighbors for 1443 samples in 0.116s...\n",
      "[t-SNE] Computed conditional probabilities for sample 1000 / 1443\n",
      "[t-SNE] Computed conditional probabilities for sample 1443 / 1443\n",
      "[t-SNE] Mean sigma: 0.043551\n",
      "[t-SNE] KL divergence after 250 iterations with early exaggeration: 61.117790\n",
      "[t-SNE] KL divergence after 300 iterations: 1.158209\n",
      "[t-SNE] Computing 121 nearest neighbors...\n",
      "[t-SNE] Indexed 1443 samples in 0.000s...\n",
      "[t-SNE] Computed neighbors for 1443 samples in 0.116s...\n",
      "[t-SNE] Computed conditional probabilities for sample 1000 / 1443\n",
      "[t-SNE] Computed conditional probabilities for sample 1443 / 1443\n",
      "[t-SNE] Mean sigma: 0.043551\n",
      "[t-SNE] KL divergence after 250 iterations with early exaggeration: 61.117767\n",
      "[t-SNE] KL divergence after 300 iterations: 1.158257\n",
      "[t-SNE] Computing 121 nearest neighbors...\n",
      "[t-SNE] Indexed 1443 samples in 0.001s...\n",
      "[t-SNE] Computed neighbors for 1443 samples in 0.142s...\n",
      "[t-SNE] Computed conditional probabilities for sample 1000 / 1443\n",
      "[t-SNE] Computed conditional probabilities for sample 1443 / 1443\n",
      "[t-SNE] Mean sigma: 0.043551\n",
      "[t-SNE] KL divergence after 250 iterations with early exaggeration: 61.117786\n",
      "[t-SNE] KL divergence after 300 iterations: 1.158609\n"
     ]
    },
    {
     "name": "stderr",
     "output_type": "stream",
     "text": [
      "15it [02:06,  8.35s/it]"
     ]
    },
    {
     "name": "stdout",
     "output_type": "stream",
     "text": [
      "[t-SNE] Computing 121 nearest neighbors...\n",
      "[t-SNE] Indexed 1443 samples in 0.000s...\n",
      "[t-SNE] Computed neighbors for 1443 samples in 0.127s...\n",
      "[t-SNE] Computed conditional probabilities for sample 1000 / 1443\n",
      "[t-SNE] Computed conditional probabilities for sample 1443 / 1443\n",
      "[t-SNE] Mean sigma: 0.044520\n",
      "[t-SNE] KL divergence after 250 iterations with early exaggeration: 60.949387\n",
      "[t-SNE] KL divergence after 300 iterations: 1.126028\n",
      "[t-SNE] Computing 121 nearest neighbors...\n",
      "[t-SNE] Indexed 1443 samples in 0.001s...\n",
      "[t-SNE] Computed neighbors for 1443 samples in 0.129s...\n",
      "[t-SNE] Computed conditional probabilities for sample 1000 / 1443\n",
      "[t-SNE] Computed conditional probabilities for sample 1443 / 1443\n",
      "[t-SNE] Mean sigma: 0.044520\n",
      "[t-SNE] KL divergence after 250 iterations with early exaggeration: 60.948807\n",
      "[t-SNE] KL divergence after 300 iterations: 1.126151\n",
      "[t-SNE] Computing 121 nearest neighbors...\n",
      "[t-SNE] Indexed 1443 samples in 0.000s...\n",
      "[t-SNE] Computed neighbors for 1443 samples in 0.121s...\n",
      "[t-SNE] Computed conditional probabilities for sample 1000 / 1443\n",
      "[t-SNE] Computed conditional probabilities for sample 1443 / 1443\n",
      "[t-SNE] Mean sigma: 0.044520\n",
      "[t-SNE] KL divergence after 250 iterations with early exaggeration: 60.949127\n",
      "[t-SNE] KL divergence after 300 iterations: 1.126115\n"
     ]
    },
    {
     "name": "stderr",
     "output_type": "stream",
     "text": [
      "16it [02:16,  8.74s/it]"
     ]
    },
    {
     "name": "stdout",
     "output_type": "stream",
     "text": [
      "[t-SNE] Computing 121 nearest neighbors...\n",
      "[t-SNE] Indexed 1443 samples in 0.000s...\n",
      "[t-SNE] Computed neighbors for 1443 samples in 0.132s...\n",
      "[t-SNE] Computed conditional probabilities for sample 1000 / 1443\n",
      "[t-SNE] Computed conditional probabilities for sample 1443 / 1443\n",
      "[t-SNE] Mean sigma: 0.043722\n",
      "[t-SNE] KL divergence after 250 iterations with early exaggeration: 60.896347\n",
      "[t-SNE] KL divergence after 300 iterations: 1.160437\n",
      "[t-SNE] Computing 121 nearest neighbors...\n",
      "[t-SNE] Indexed 1443 samples in 0.000s...\n",
      "[t-SNE] Computed neighbors for 1443 samples in 0.131s...\n",
      "[t-SNE] Computed conditional probabilities for sample 1000 / 1443\n",
      "[t-SNE] Computed conditional probabilities for sample 1443 / 1443\n",
      "[t-SNE] Mean sigma: 0.043722\n",
      "[t-SNE] KL divergence after 250 iterations with early exaggeration: 60.897102\n",
      "[t-SNE] KL divergence after 300 iterations: 1.158682\n",
      "[t-SNE] Computing 121 nearest neighbors...\n",
      "[t-SNE] Indexed 1443 samples in 0.000s...\n",
      "[t-SNE] Computed neighbors for 1443 samples in 0.128s...\n",
      "[t-SNE] Computed conditional probabilities for sample 1000 / 1443\n",
      "[t-SNE] Computed conditional probabilities for sample 1443 / 1443\n",
      "[t-SNE] Mean sigma: 0.043722\n",
      "[t-SNE] KL divergence after 250 iterations with early exaggeration: 60.896828\n",
      "[t-SNE] KL divergence after 300 iterations: 1.159760\n"
     ]
    },
    {
     "name": "stderr",
     "output_type": "stream",
     "text": [
      "17it [02:24,  8.65s/it]"
     ]
    },
    {
     "name": "stdout",
     "output_type": "stream",
     "text": [
      "[t-SNE] Computing 121 nearest neighbors...\n",
      "[t-SNE] Indexed 1443 samples in 0.001s...\n",
      "[t-SNE] Computed neighbors for 1443 samples in 0.128s...\n",
      "[t-SNE] Computed conditional probabilities for sample 1000 / 1443\n",
      "[t-SNE] Computed conditional probabilities for sample 1443 / 1443\n",
      "[t-SNE] Mean sigma: 0.044205\n",
      "[t-SNE] KL divergence after 250 iterations with early exaggeration: 60.846684\n",
      "[t-SNE] KL divergence after 300 iterations: 1.166477\n",
      "[t-SNE] Computing 121 nearest neighbors...\n",
      "[t-SNE] Indexed 1443 samples in 0.000s...\n",
      "[t-SNE] Computed neighbors for 1443 samples in 0.126s...\n",
      "[t-SNE] Computed conditional probabilities for sample 1000 / 1443\n",
      "[t-SNE] Computed conditional probabilities for sample 1443 / 1443\n",
      "[t-SNE] Mean sigma: 0.044205\n",
      "[t-SNE] KL divergence after 250 iterations with early exaggeration: 60.846645\n",
      "[t-SNE] KL divergence after 300 iterations: 1.166839\n",
      "[t-SNE] Computing 121 nearest neighbors...\n",
      "[t-SNE] Indexed 1443 samples in 0.001s...\n",
      "[t-SNE] Computed neighbors for 1443 samples in 0.125s...\n",
      "[t-SNE] Computed conditional probabilities for sample 1000 / 1443\n",
      "[t-SNE] Computed conditional probabilities for sample 1443 / 1443\n",
      "[t-SNE] Mean sigma: 0.044205\n",
      "[t-SNE] KL divergence after 250 iterations with early exaggeration: 60.846882\n",
      "[t-SNE] KL divergence after 300 iterations: 1.167297\n"
     ]
    },
    {
     "name": "stderr",
     "output_type": "stream",
     "text": [
      "18it [02:32,  8.51s/it]"
     ]
    },
    {
     "name": "stdout",
     "output_type": "stream",
     "text": [
      "[t-SNE] Computing 121 nearest neighbors...\n",
      "[t-SNE] Indexed 1443 samples in 0.000s...\n",
      "[t-SNE] Computed neighbors for 1443 samples in 0.118s...\n",
      "[t-SNE] Computed conditional probabilities for sample 1000 / 1443\n",
      "[t-SNE] Computed conditional probabilities for sample 1443 / 1443\n",
      "[t-SNE] Mean sigma: 0.043973\n",
      "[t-SNE] KL divergence after 250 iterations with early exaggeration: 60.763893\n",
      "[t-SNE] KL divergence after 300 iterations: 1.152760\n",
      "[t-SNE] Computing 121 nearest neighbors...\n",
      "[t-SNE] Indexed 1443 samples in 0.000s...\n",
      "[t-SNE] Computed neighbors for 1443 samples in 0.124s...\n",
      "[t-SNE] Computed conditional probabilities for sample 1000 / 1443\n",
      "[t-SNE] Computed conditional probabilities for sample 1443 / 1443\n",
      "[t-SNE] Mean sigma: 0.043973\n",
      "[t-SNE] KL divergence after 250 iterations with early exaggeration: 60.763439\n",
      "[t-SNE] KL divergence after 300 iterations: 1.151872\n",
      "[t-SNE] Computing 121 nearest neighbors...\n",
      "[t-SNE] Indexed 1443 samples in 0.000s...\n",
      "[t-SNE] Computed neighbors for 1443 samples in 0.120s...\n",
      "[t-SNE] Computed conditional probabilities for sample 1000 / 1443\n",
      "[t-SNE] Computed conditional probabilities for sample 1443 / 1443\n",
      "[t-SNE] Mean sigma: 0.043973\n",
      "[t-SNE] KL divergence after 250 iterations with early exaggeration: 60.764057\n",
      "[t-SNE] KL divergence after 300 iterations: 1.152043\n"
     ]
    },
    {
     "name": "stderr",
     "output_type": "stream",
     "text": [
      "19it [02:41,  8.65s/it]"
     ]
    },
    {
     "name": "stdout",
     "output_type": "stream",
     "text": [
      "[t-SNE] Computing 121 nearest neighbors...\n",
      "[t-SNE] Indexed 1443 samples in 0.000s...\n",
      "[t-SNE] Computed neighbors for 1443 samples in 0.123s...\n",
      "[t-SNE] Computed conditional probabilities for sample 1000 / 1443\n",
      "[t-SNE] Computed conditional probabilities for sample 1443 / 1443\n",
      "[t-SNE] Mean sigma: 0.043885\n",
      "[t-SNE] KL divergence after 250 iterations with early exaggeration: 61.026493\n",
      "[t-SNE] KL divergence after 300 iterations: 1.142973\n",
      "[t-SNE] Computing 121 nearest neighbors...\n",
      "[t-SNE] Indexed 1443 samples in 0.000s...\n",
      "[t-SNE] Computed neighbors for 1443 samples in 0.125s...\n",
      "[t-SNE] Computed conditional probabilities for sample 1000 / 1443\n",
      "[t-SNE] Computed conditional probabilities for sample 1443 / 1443\n",
      "[t-SNE] Mean sigma: 0.043885\n",
      "[t-SNE] KL divergence after 250 iterations with early exaggeration: 61.026684\n",
      "[t-SNE] KL divergence after 300 iterations: 1.142979\n",
      "[t-SNE] Computing 121 nearest neighbors...\n",
      "[t-SNE] Indexed 1443 samples in 0.000s...\n",
      "[t-SNE] Computed neighbors for 1443 samples in 0.121s...\n",
      "[t-SNE] Computed conditional probabilities for sample 1000 / 1443\n",
      "[t-SNE] Computed conditional probabilities for sample 1443 / 1443\n",
      "[t-SNE] Mean sigma: 0.043885\n",
      "[t-SNE] KL divergence after 250 iterations with early exaggeration: 61.026726\n",
      "[t-SNE] KL divergence after 300 iterations: 1.142983\n"
     ]
    },
    {
     "name": "stderr",
     "output_type": "stream",
     "text": [
      "20it [02:50,  8.52s/it]\n"
     ]
    }
   ],
   "source": [
    "for syn_vals, gbm_vals in tqdm(zip(syn_val_sets, gbm_val_sets)):\n",
    "    for iter in range(3):\n",
    "        # JS-PCA\n",
    "        syn_score, gbm_score = js_div(real_vals, syn_vals, gbm_vals, mode='pca')\n",
    "        eval_scores['js_pca']['syn'].append(syn_score)\n",
    "        eval_scores['js_pca']['gbm'].append(gbm_score)\n",
    "        \n",
    "        # JS-TSNE\n",
    "        syn_score, gbm_score = js_div(real_vals, syn_vals, gbm_vals, mode='tsne')\n",
    "        eval_scores['js_tsne']['syn'].append(syn_score)\n",
    "        eval_scores['js_tsne']['gbm'].append(gbm_score)\n",
    "    \n",
    "    # FID\n",
    "    syn_score = fid(real_vals, syn_vals)\n",
    "    gbm_score = fid(real_vals, gbm_vals)\n",
    "    eval_scores['fid']['syn'].append(syn_score)\n",
    "    eval_scores['fid']['gbm'].append(gbm_score)\n",
    "\n",
    "to_pkl(f'results/{LOGIR_NAME}/eval_scores.pkl', eval_scores)"
   ]
  },
  {
   "attachments": {},
   "cell_type": "markdown",
   "metadata": {},
   "source": [
    "# Run hypothesis tests"
   ]
  },
  {
   "cell_type": "code",
   "execution_count": 81,
   "metadata": {},
   "outputs": [],
   "source": [
    "from scipy.stats import ttest_ind\n",
    "eval_scores = from_pkl(f'results/{LOGIR_NAME}/eval_scores.pkl')"
   ]
  },
  {
   "cell_type": "code",
   "execution_count": 82,
   "metadata": {},
   "outputs": [],
   "source": [
    "def hypothesis_test(syn_scores, gbm_scores):\n",
    "    syn_scores = np.array(syn_scores)\n",
    "    gbm_scores = np.array(gbm_scores)\n",
    "    print(\"Synthetic:\")\n",
    "    print(f\"\\tmean  = {syn_scores.mean()}\")\n",
    "    print(f\"\\tstdev = {syn_scores.std()}\")\n",
    "    print(\"Benchmark:\")\n",
    "    print(f\"\\tmean  = {gbm_scores.mean()}\")\n",
    "    print(f\"\\tstdev = {gbm_scores.std()}\")"
   ]
  },
  {
   "attachments": {},
   "cell_type": "markdown",
   "metadata": {},
   "source": [
    "### PCA JS-Divergence"
   ]
  },
  {
   "cell_type": "code",
   "execution_count": 83,
   "metadata": {},
   "outputs": [
    {
     "name": "stdout",
     "output_type": "stream",
     "text": [
      "Synthetic:\n",
      "\tmean  = 1.6576441169490852\n",
      "\tstdev = 0.2065909741205673\n",
      "Benchmark:\n",
      "\tmean  = 2.919550678308244\n",
      "\tstdev = 0.3297409229289862\n"
     ]
    }
   ],
   "source": [
    "hypothesis_test(eval_scores['js_pca']['syn'], eval_scores['js_pca']['gbm'])"
   ]
  },
  {
   "attachments": {},
   "cell_type": "markdown",
   "metadata": {},
   "source": [
    "### TSNE JS-Divergence"
   ]
  },
  {
   "cell_type": "code",
   "execution_count": 84,
   "metadata": {},
   "outputs": [
    {
     "name": "stdout",
     "output_type": "stream",
     "text": [
      "Synthetic:\n",
      "\tmean  = 0.11182642067340585\n",
      "\tstdev = 0.013656558060486339\n",
      "Benchmark:\n",
      "\tmean  = 0.23721891164765802\n",
      "\tstdev = 0.03350305663559553\n"
     ]
    }
   ],
   "source": [
    "hypothesis_test(eval_scores['js_tsne']['syn'], eval_scores['js_tsne']['gbm'])"
   ]
  },
  {
   "attachments": {},
   "cell_type": "markdown",
   "metadata": {},
   "source": [
    "### FID Score"
   ]
  },
  {
   "cell_type": "code",
   "execution_count": 85,
   "metadata": {},
   "outputs": [
    {
     "name": "stdout",
     "output_type": "stream",
     "text": [
      "Synthetic:\n",
      "\tmean  = 0.004907154425217041\n",
      "\tstdev = 0.00026894137654578075\n",
      "Benchmark:\n",
      "\tmean  = 0.009741208312549928\n",
      "\tstdev = 0.00032674720969441126\n"
     ]
    }
   ],
   "source": [
    "hypothesis_test(eval_scores['fid']['syn'], eval_scores['fid']['gbm'])"
   ]
  },
  {
   "cell_type": "code",
   "execution_count": null,
   "metadata": {},
   "outputs": [],
   "source": []
  }
 ],
 "metadata": {
  "kernelspec": {
   "display_name": "base",
   "language": "python",
   "name": "python3"
  },
  "language_info": {
   "codemirror_mode": {
    "name": "ipython",
    "version": 3
   },
   "file_extension": ".py",
   "mimetype": "text/x-python",
   "name": "python",
   "nbconvert_exporter": "python",
   "pygments_lexer": "ipython3",
   "version": "3.10.9"
  },
  "orig_nbformat": 4
 },
 "nbformat": 4,
 "nbformat_minor": 2
}
