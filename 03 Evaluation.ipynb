{
 "cells": [
  {
   "cell_type": "code",
   "execution_count": 1,
   "metadata": {},
   "outputs": [
    {
     "name": "stdout",
     "output_type": "stream",
     "text": [
      "WARNING:tensorflow:From c:\\anaconda3\\lib\\site-packages\\keras\\src\\losses.py:2976: The name tf.losses.sparse_softmax_cross_entropy is deprecated. Please use tf.compat.v1.losses.sparse_softmax_cross_entropy instead.\n",
      "\n"
     ]
    }
   ],
   "source": [
    "import matplotlib.pyplot as plt\n",
    "from torch.utils import data\n",
    "import numpy as np\n",
    "from tqdm import tqdm\n",
    "import random\n",
    "from visualisationMetrics import *\n",
    "from dataLoader import *\n",
    "from utils.utils import *\n",
    "from plotly.subplots import make_subplots\n",
    "import plotly.graph_objects as go\n",
    "from collections import defaultdict\n",
    "from tqdm import tqdm"
   ]
  },
  {
   "cell_type": "code",
   "execution_count": 2,
   "metadata": {},
   "outputs": [],
   "source": [
    "NSETS = 20\n",
    "LOGDIR = 'latest-model'"
   ]
  },
  {
   "attachments": {},
   "cell_type": "markdown",
   "metadata": {},
   "source": [
    "# Load results"
   ]
  },
  {
   "attachments": {},
   "cell_type": "markdown",
   "metadata": {},
   "source": [
    "### Load real data"
   ]
  },
  {
   "cell_type": "code",
   "execution_count": 3,
   "metadata": {},
   "outputs": [
    {
     "name": "stderr",
     "output_type": "stream",
     "text": [
      "[*********************100%%**********************]  1 of 1 completed\n"
     ]
    },
    {
     "name": "stdout",
     "output_type": "stream",
     "text": [
      "X_train's shape is (4344, 1, 1, 3), X_test's shape is (485, 1, 1, 3)\n",
      "y_train's label shape is (4344, 1, 1, 43), y_test's label shape is (485, 1, 1, 43)\n"
     ]
    }
   ],
   "source": [
    "real_data = load_dataset(data_mode='Train')\n",
    "real_dataloader = data.DataLoader(real_data, batch_size=1, num_workers=1, shuffle=True)"
   ]
  },
  {
   "cell_type": "code",
   "execution_count": 4,
   "metadata": {},
   "outputs": [
    {
     "name": "stdout",
     "output_type": "stream",
     "text": [
      "(485, 1, 43)\n",
      "(485, 1, 3)\n",
      "(485, 43, 1)\n"
     ]
    }
   ],
   "source": [
    "real_paths = []\n",
    "real_conds = []\n",
    "\n",
    "for i, (cond, sim) in enumerate(real_dataloader):\n",
    "    sim = sim.cpu().detach().numpy()\n",
    "    sim = sim.reshape(sim.shape[1], sim.shape[3])\n",
    "    real_paths.append(sim)\n",
    "    cond = cond.cpu().detach().numpy()\n",
    "    cond = cond.reshape(cond.shape[1], cond.shape[3])\n",
    "    real_conds.append(cond)\n",
    "\n",
    "real_paths = np.array(real_paths)\n",
    "real_conds = np.array(real_conds)\n",
    "print(real_paths.shape)\n",
    "print(real_conds.shape)\n",
    "\n",
    "real_vals = np.transpose(real_paths, (0,2,1))\n",
    "print(real_vals.shape)\n",
    "to_pkl(f'results/real_vals.pkl', real_vals)"
   ]
  },
  {
   "attachments": {},
   "cell_type": "markdown",
   "metadata": {},
   "source": [
    "### Load synthetic data"
   ]
  },
  {
   "cell_type": "code",
   "execution_count": 5,
   "metadata": {},
   "outputs": [],
   "source": [
    "from LoadSynthetic import *"
   ]
  },
  {
   "cell_type": "code",
   "execution_count": 6,
   "metadata": {},
   "outputs": [],
   "source": [
    "def get_syn_vals(model_path=f'./logs/{LOGDIR}', n=10, **kwargs):\n",
    "    syn_data = Synthetic_Dataset(model_path=model_path, n=n, dataset=real_data, **kwargs)\n",
    "    dataloader = data.DataLoader(syn_data, batch_size=1, num_workers=1, shuffle=True, **kwargs)\n",
    "\n",
    "    paths = []\n",
    "    conds = []\n",
    "\n",
    "    for i, (cond, sim) in enumerate(dataloader):\n",
    "        sim = sim.cpu().detach().numpy()\n",
    "        sim = sim.reshape(sim.shape[1], sim.shape[3])\n",
    "        paths.append(sim)\n",
    "        cond = cond.cpu().detach().numpy()\n",
    "        cond = cond.reshape(cond.shape[1], cond.shape[3])\n",
    "        conds.append(cond)\n",
    "        \n",
    "    paths = np.array(paths)\n",
    "    conds = np.array(conds)\n",
    "    vals = np.transpose(paths, (0,2,1))\n",
    "    np.random.shuffle(vals)\n",
    "    return vals\n",
    "\n",
    "def get_syn_val_sets(nsets, **kwargs):\n",
    "    val_sets = []\n",
    "    for i in tqdm(range(nsets)):\n",
    "        val_sets.append(get_syn_vals(**kwargs))\n",
    "    return val_sets"
   ]
  },
  {
   "cell_type": "code",
   "execution_count": 9,
   "metadata": {},
   "outputs": [],
   "source": [
    "syn_val_sets = get_syn_val_sets(nsets=NSETS)\n",
    "to_pkl(f'logs/{LOGDIR}/results/syn_val_sets.pkl', syn_val_sets)"
   ]
  },
  {
   "cell_type": "code",
   "execution_count": null,
   "metadata": {},
   "outputs": [],
   "source": [
    "to_pkl(f'logs/{LOGDIR}/results/syn_val_sets.pkl', syn_val_sets)"
   ]
  },
  {
   "attachments": {},
   "cell_type": "markdown",
   "metadata": {},
   "source": [
    "### Load benchmark data"
   ]
  },
  {
   "cell_type": "code",
   "execution_count": 5,
   "metadata": {},
   "outputs": [],
   "source": [
    "def get_benchmark_vals(n=10, mode='gbm', **kwargs):\n",
    "    if mode=='gbm':\n",
    "        simulator = GBM_Simulator(dataset=real_data, nsamples=n)\n",
    "    elif mode=='cev':\n",
    "        simulator = CEV_Simulator(dataset=real_data, nsamples=n)\n",
    "    elif mode=='heston':\n",
    "        simulator = Heston_Simulator(dataset=real_data, nsamples=n)\n",
    "    else:\n",
    "        raise NotImplementedError\n",
    "    paths = simulator.run()\n",
    "    paths = np.reshape(paths, (-1,1,paths.shape[-1]))\n",
    "\n",
    "    vals = np.transpose(paths, (0, 2, 1))\n",
    "    np.random.shuffle(vals)\n",
    "    return vals\n",
    "\n",
    "def get_benchmark_val_sets(nsets, mode='gbm', **kwargs):\n",
    "    val_sets = []\n",
    "    for i in tqdm(range(nsets)):\n",
    "        val_sets.append(get_benchmark_vals(mode=mode, **kwargs))\n",
    "    return val_sets"
   ]
  },
  {
   "cell_type": "code",
   "execution_count": 6,
   "metadata": {},
   "outputs": [
    {
     "name": "stderr",
     "output_type": "stream",
     "text": [
      "100%|██████████| 20/20 [42:47<00:00, 128.36s/it]\n"
     ]
    }
   ],
   "source": [
    "for mode in ['gbm', 'cev', 'heston']:\n",
    "    benchmark_val_sets = get_benchmark_val_sets(mode=mode, nsets=NSETS)\n",
    "    to_pkl(f'results/{mode}_val_sets.pkl', benchmark_val_sets)"
   ]
  },
  {
   "attachments": {},
   "cell_type": "markdown",
   "metadata": {},
   "source": [
    "# Run evaluations"
   ]
  },
  {
   "cell_type": "code",
   "execution_count": 10,
   "metadata": {},
   "outputs": [],
   "source": [
    "real_vals = from_pkl(f'results/real_vals.pkl')\n",
    "syn_val_sets = from_pkl(f'logs/{LOGDIR}/results/syn_val_sets.pkl')\n",
    "gbm_val_sets = from_pkl(f'results/gbm_val_sets.pkl')\n",
    "cev_val_sets = from_pkl(f'results/cev_val_sets.pkl')\n",
    "heston_val_sets = from_pkl(f'results/heston_val_sets.pkl')"
   ]
  },
  {
   "cell_type": "code",
   "execution_count": 11,
   "metadata": {},
   "outputs": [],
   "source": [
    "eval_scores = {\n",
    "    'js_pca': {\n",
    "        'syn': [],\n",
    "        'gbm': [],\n",
    "        'cev': [],\n",
    "        'heston': []\n",
    "    },\n",
    "    'js_tsne': {\n",
    "        'syn': [],\n",
    "        'gbm': [],\n",
    "        'cev': [],\n",
    "        'heston': []\n",
    "    },\n",
    "    'fid': {\n",
    "        'syn': [],\n",
    "        'gbm': [],\n",
    "        'cev': [],\n",
    "        'heston': []\n",
    "    }\n",
    "}"
   ]
  },
  {
   "cell_type": "code",
   "execution_count": 12,
   "metadata": {},
   "outputs": [],
   "source": [
    "def js_div(real_vals, other_vals_list, mode, n_components=10, **kwargs):\n",
    "    \n",
    "    vals_list = dim_reduction([real_vals]+other_vals_list, n_components=n_components, mode=mode, **kwargs)\n",
    "\n",
    "    scores = []\n",
    "    for i in range(1,len(other_vals_list)+1):\n",
    "        scores.append(js_divergence(vals_list[0], vals_list[i], verbose=False))\n",
    "    return scores"
   ]
  },
  {
   "cell_type": "code",
   "execution_count": 13,
   "metadata": {},
   "outputs": [
    {
     "name": "stderr",
     "output_type": "stream",
     "text": [
      "0it [00:00, ?it/s]"
     ]
    },
    {
     "name": "stdout",
     "output_type": "stream",
     "text": [
      "[t-SNE] Computing 121 nearest neighbors...\n",
      "[t-SNE] Indexed 2425 samples in 0.001s...\n",
      "[t-SNE] Computed neighbors for 2425 samples in 0.297s...\n",
      "[t-SNE] Computed conditional probabilities for sample 1000 / 2425\n",
      "[t-SNE] Computed conditional probabilities for sample 2000 / 2425\n",
      "[t-SNE] Computed conditional probabilities for sample 2425 / 2425\n",
      "[t-SNE] Mean sigma: 0.039014\n",
      "[t-SNE] KL divergence after 250 iterations with early exaggeration: 64.960800\n",
      "[t-SNE] KL divergence after 300 iterations: 1.620564\n",
      "[t-SNE] Computing 121 nearest neighbors...\n",
      "[t-SNE] Indexed 2425 samples in 0.001s...\n",
      "[t-SNE] Computed neighbors for 2425 samples in 0.217s...\n",
      "[t-SNE] Computed conditional probabilities for sample 1000 / 2425\n",
      "[t-SNE] Computed conditional probabilities for sample 2000 / 2425\n",
      "[t-SNE] Computed conditional probabilities for sample 2425 / 2425\n",
      "[t-SNE] Mean sigma: 0.039014\n",
      "[t-SNE] KL divergence after 250 iterations with early exaggeration: 64.961090\n",
      "[t-SNE] KL divergence after 300 iterations: 1.620436\n",
      "[t-SNE] Computing 121 nearest neighbors...\n",
      "[t-SNE] Indexed 2425 samples in 0.001s...\n",
      "[t-SNE] Computed neighbors for 2425 samples in 0.410s...\n",
      "[t-SNE] Computed conditional probabilities for sample 1000 / 2425\n",
      "[t-SNE] Computed conditional probabilities for sample 2000 / 2425\n",
      "[t-SNE] Computed conditional probabilities for sample 2425 / 2425\n",
      "[t-SNE] Mean sigma: 0.039014\n",
      "[t-SNE] KL divergence after 250 iterations with early exaggeration: 64.961578\n",
      "[t-SNE] KL divergence after 300 iterations: 1.620137\n"
     ]
    },
    {
     "name": "stderr",
     "output_type": "stream",
     "text": [
      "1it [00:19, 19.32s/it]"
     ]
    },
    {
     "name": "stdout",
     "output_type": "stream",
     "text": [
      "[t-SNE] Computing 121 nearest neighbors...\n",
      "[t-SNE] Indexed 2425 samples in 0.001s...\n",
      "[t-SNE] Computed neighbors for 2425 samples in 0.331s...\n",
      "[t-SNE] Computed conditional probabilities for sample 1000 / 2425\n",
      "[t-SNE] Computed conditional probabilities for sample 2000 / 2425\n",
      "[t-SNE] Computed conditional probabilities for sample 2425 / 2425\n",
      "[t-SNE] Mean sigma: 0.039381\n",
      "[t-SNE] KL divergence after 250 iterations with early exaggeration: 64.833694\n",
      "[t-SNE] KL divergence after 300 iterations: 1.666568\n",
      "[t-SNE] Computing 121 nearest neighbors...\n",
      "[t-SNE] Indexed 2425 samples in 0.002s...\n",
      "[t-SNE] Computed neighbors for 2425 samples in 0.406s...\n",
      "[t-SNE] Computed conditional probabilities for sample 1000 / 2425\n",
      "[t-SNE] Computed conditional probabilities for sample 2000 / 2425\n",
      "[t-SNE] Computed conditional probabilities for sample 2425 / 2425\n",
      "[t-SNE] Mean sigma: 0.039381\n",
      "[t-SNE] KL divergence after 250 iterations with early exaggeration: 64.832275\n",
      "[t-SNE] KL divergence after 300 iterations: 1.662717\n",
      "[t-SNE] Computing 121 nearest neighbors...\n",
      "[t-SNE] Indexed 2425 samples in 0.000s...\n",
      "[t-SNE] Computed neighbors for 2425 samples in 0.321s...\n",
      "[t-SNE] Computed conditional probabilities for sample 1000 / 2425\n",
      "[t-SNE] Computed conditional probabilities for sample 2000 / 2425\n",
      "[t-SNE] Computed conditional probabilities for sample 2425 / 2425\n",
      "[t-SNE] Mean sigma: 0.039381\n",
      "[t-SNE] KL divergence after 250 iterations with early exaggeration: 64.832771\n",
      "[t-SNE] KL divergence after 300 iterations: 1.662034\n"
     ]
    },
    {
     "name": "stderr",
     "output_type": "stream",
     "text": [
      "2it [00:41, 21.28s/it]"
     ]
    },
    {
     "name": "stdout",
     "output_type": "stream",
     "text": [
      "[t-SNE] Computing 121 nearest neighbors...\n",
      "[t-SNE] Indexed 2425 samples in 0.000s...\n",
      "[t-SNE] Computed neighbors for 2425 samples in 0.333s...\n",
      "[t-SNE] Computed conditional probabilities for sample 1000 / 2425\n",
      "[t-SNE] Computed conditional probabilities for sample 2000 / 2425\n",
      "[t-SNE] Computed conditional probabilities for sample 2425 / 2425\n",
      "[t-SNE] Mean sigma: 0.039975\n",
      "[t-SNE] KL divergence after 250 iterations with early exaggeration: 64.919968\n",
      "[t-SNE] KL divergence after 300 iterations: 1.703150\n",
      "[t-SNE] Computing 121 nearest neighbors...\n",
      "[t-SNE] Indexed 2425 samples in 0.001s...\n",
      "[t-SNE] Computed neighbors for 2425 samples in 0.361s...\n",
      "[t-SNE] Computed conditional probabilities for sample 1000 / 2425\n",
      "[t-SNE] Computed conditional probabilities for sample 2000 / 2425\n",
      "[t-SNE] Computed conditional probabilities for sample 2425 / 2425\n",
      "[t-SNE] Mean sigma: 0.039975\n",
      "[t-SNE] KL divergence after 250 iterations with early exaggeration: 64.919785\n",
      "[t-SNE] KL divergence after 300 iterations: 1.704209\n",
      "[t-SNE] Computing 121 nearest neighbors...\n",
      "[t-SNE] Indexed 2425 samples in 0.000s...\n",
      "[t-SNE] Computed neighbors for 2425 samples in 0.267s...\n",
      "[t-SNE] Computed conditional probabilities for sample 1000 / 2425\n",
      "[t-SNE] Computed conditional probabilities for sample 2000 / 2425\n",
      "[t-SNE] Computed conditional probabilities for sample 2425 / 2425\n",
      "[t-SNE] Mean sigma: 0.039975\n",
      "[t-SNE] KL divergence after 250 iterations with early exaggeration: 64.919662\n",
      "[t-SNE] KL divergence after 300 iterations: 1.703398\n"
     ]
    },
    {
     "name": "stderr",
     "output_type": "stream",
     "text": [
      "3it [01:09, 24.21s/it]"
     ]
    },
    {
     "name": "stdout",
     "output_type": "stream",
     "text": [
      "[t-SNE] Computing 121 nearest neighbors...\n",
      "[t-SNE] Indexed 2425 samples in 0.000s...\n",
      "[t-SNE] Computed neighbors for 2425 samples in 0.331s...\n",
      "[t-SNE] Computed conditional probabilities for sample 1000 / 2425\n",
      "[t-SNE] Computed conditional probabilities for sample 2000 / 2425\n",
      "[t-SNE] Computed conditional probabilities for sample 2425 / 2425\n",
      "[t-SNE] Mean sigma: 0.039493\n",
      "[t-SNE] KL divergence after 250 iterations with early exaggeration: 64.531761\n",
      "[t-SNE] KL divergence after 300 iterations: 1.600297\n",
      "[t-SNE] Computing 121 nearest neighbors...\n",
      "[t-SNE] Indexed 2425 samples in 0.016s...\n",
      "[t-SNE] Computed neighbors for 2425 samples in 0.346s...\n",
      "[t-SNE] Computed conditional probabilities for sample 1000 / 2425\n",
      "[t-SNE] Computed conditional probabilities for sample 2000 / 2425\n",
      "[t-SNE] Computed conditional probabilities for sample 2425 / 2425\n",
      "[t-SNE] Mean sigma: 0.039493\n",
      "[t-SNE] KL divergence after 250 iterations with early exaggeration: 64.531654\n",
      "[t-SNE] KL divergence after 300 iterations: 1.600002\n",
      "[t-SNE] Computing 121 nearest neighbors...\n",
      "[t-SNE] Indexed 2425 samples in 0.000s...\n",
      "[t-SNE] Computed neighbors for 2425 samples in 0.333s...\n",
      "[t-SNE] Computed conditional probabilities for sample 1000 / 2425\n",
      "[t-SNE] Computed conditional probabilities for sample 2000 / 2425\n",
      "[t-SNE] Computed conditional probabilities for sample 2425 / 2425\n",
      "[t-SNE] Mean sigma: 0.039493\n",
      "[t-SNE] KL divergence after 250 iterations with early exaggeration: 64.531937\n",
      "[t-SNE] KL divergence after 300 iterations: 1.600319\n"
     ]
    },
    {
     "name": "stderr",
     "output_type": "stream",
     "text": [
      "4it [01:41, 27.07s/it]"
     ]
    },
    {
     "name": "stdout",
     "output_type": "stream",
     "text": [
      "[t-SNE] Computing 121 nearest neighbors...\n",
      "[t-SNE] Indexed 2425 samples in 0.000s...\n",
      "[t-SNE] Computed neighbors for 2425 samples in 0.314s...\n",
      "[t-SNE] Computed conditional probabilities for sample 1000 / 2425\n",
      "[t-SNE] Computed conditional probabilities for sample 2000 / 2425\n",
      "[t-SNE] Computed conditional probabilities for sample 2425 / 2425\n",
      "[t-SNE] Mean sigma: 0.039494\n",
      "[t-SNE] KL divergence after 250 iterations with early exaggeration: 64.782043\n",
      "[t-SNE] KL divergence after 300 iterations: 1.822071\n",
      "[t-SNE] Computing 121 nearest neighbors...\n",
      "[t-SNE] Indexed 2425 samples in 0.000s...\n",
      "[t-SNE] Computed neighbors for 2425 samples in 0.348s...\n",
      "[t-SNE] Computed conditional probabilities for sample 1000 / 2425\n",
      "[t-SNE] Computed conditional probabilities for sample 2000 / 2425\n",
      "[t-SNE] Computed conditional probabilities for sample 2425 / 2425\n",
      "[t-SNE] Mean sigma: 0.039494\n",
      "[t-SNE] KL divergence after 250 iterations with early exaggeration: 64.781197\n",
      "[t-SNE] KL divergence after 300 iterations: 1.822197\n",
      "[t-SNE] Computing 121 nearest neighbors...\n",
      "[t-SNE] Indexed 2425 samples in 0.001s...\n",
      "[t-SNE] Computed neighbors for 2425 samples in 0.328s...\n",
      "[t-SNE] Computed conditional probabilities for sample 1000 / 2425\n",
      "[t-SNE] Computed conditional probabilities for sample 2000 / 2425\n",
      "[t-SNE] Computed conditional probabilities for sample 2425 / 2425\n",
      "[t-SNE] Mean sigma: 0.039494\n",
      "[t-SNE] KL divergence after 250 iterations with early exaggeration: 64.780968\n",
      "[t-SNE] KL divergence after 300 iterations: 1.821262\n"
     ]
    },
    {
     "name": "stderr",
     "output_type": "stream",
     "text": [
      "5it [02:17, 30.36s/it]"
     ]
    },
    {
     "name": "stdout",
     "output_type": "stream",
     "text": [
      "[t-SNE] Computing 121 nearest neighbors...\n",
      "[t-SNE] Indexed 2425 samples in 0.000s...\n",
      "[t-SNE] Computed neighbors for 2425 samples in 0.551s...\n",
      "[t-SNE] Computed conditional probabilities for sample 1000 / 2425\n",
      "[t-SNE] Computed conditional probabilities for sample 2000 / 2425\n",
      "[t-SNE] Computed conditional probabilities for sample 2425 / 2425\n",
      "[t-SNE] Mean sigma: 0.039732\n",
      "[t-SNE] KL divergence after 250 iterations with early exaggeration: 64.741463\n",
      "[t-SNE] KL divergence after 300 iterations: 1.749426\n",
      "[t-SNE] Computing 121 nearest neighbors...\n",
      "[t-SNE] Indexed 2425 samples in 0.001s...\n",
      "[t-SNE] Computed neighbors for 2425 samples in 0.270s...\n",
      "[t-SNE] Computed conditional probabilities for sample 1000 / 2425\n",
      "[t-SNE] Computed conditional probabilities for sample 2000 / 2425\n",
      "[t-SNE] Computed conditional probabilities for sample 2425 / 2425\n",
      "[t-SNE] Mean sigma: 0.039732\n",
      "[t-SNE] KL divergence after 250 iterations with early exaggeration: 64.741623\n",
      "[t-SNE] KL divergence after 300 iterations: 1.748052\n",
      "[t-SNE] Computing 121 nearest neighbors...\n",
      "[t-SNE] Indexed 2425 samples in 0.000s...\n",
      "[t-SNE] Computed neighbors for 2425 samples in 0.257s...\n",
      "[t-SNE] Computed conditional probabilities for sample 1000 / 2425\n",
      "[t-SNE] Computed conditional probabilities for sample 2000 / 2425\n",
      "[t-SNE] Computed conditional probabilities for sample 2425 / 2425\n",
      "[t-SNE] Mean sigma: 0.039732\n",
      "[t-SNE] KL divergence after 250 iterations with early exaggeration: 64.741119\n",
      "[t-SNE] KL divergence after 300 iterations: 1.747776\n"
     ]
    },
    {
     "name": "stderr",
     "output_type": "stream",
     "text": [
      "6it [02:59, 34.50s/it]"
     ]
    },
    {
     "name": "stdout",
     "output_type": "stream",
     "text": [
      "[t-SNE] Computing 121 nearest neighbors...\n",
      "[t-SNE] Indexed 2425 samples in 0.001s...\n",
      "[t-SNE] Computed neighbors for 2425 samples in 0.373s...\n",
      "[t-SNE] Computed conditional probabilities for sample 1000 / 2425\n",
      "[t-SNE] Computed conditional probabilities for sample 2000 / 2425\n",
      "[t-SNE] Computed conditional probabilities for sample 2425 / 2425\n",
      "[t-SNE] Mean sigma: 0.038846\n",
      "[t-SNE] KL divergence after 250 iterations with early exaggeration: 65.053246\n",
      "[t-SNE] KL divergence after 300 iterations: 1.788158\n",
      "[t-SNE] Computing 121 nearest neighbors...\n",
      "[t-SNE] Indexed 2425 samples in 0.001s...\n",
      "[t-SNE] Computed neighbors for 2425 samples in 0.337s...\n",
      "[t-SNE] Computed conditional probabilities for sample 1000 / 2425\n",
      "[t-SNE] Computed conditional probabilities for sample 2000 / 2425\n",
      "[t-SNE] Computed conditional probabilities for sample 2425 / 2425\n",
      "[t-SNE] Mean sigma: 0.038846\n",
      "[t-SNE] KL divergence after 250 iterations with early exaggeration: 65.053909\n",
      "[t-SNE] KL divergence after 300 iterations: 1.791058\n",
      "[t-SNE] Computing 121 nearest neighbors...\n",
      "[t-SNE] Indexed 2425 samples in 0.001s...\n",
      "[t-SNE] Computed neighbors for 2425 samples in 0.336s...\n",
      "[t-SNE] Computed conditional probabilities for sample 1000 / 2425\n",
      "[t-SNE] Computed conditional probabilities for sample 2000 / 2425\n",
      "[t-SNE] Computed conditional probabilities for sample 2425 / 2425\n",
      "[t-SNE] Mean sigma: 0.038846\n",
      "[t-SNE] KL divergence after 250 iterations with early exaggeration: 65.053734\n",
      "[t-SNE] KL divergence after 300 iterations: 1.789269\n"
     ]
    },
    {
     "name": "stderr",
     "output_type": "stream",
     "text": [
      "7it [03:36, 35.05s/it]"
     ]
    },
    {
     "name": "stdout",
     "output_type": "stream",
     "text": [
      "[t-SNE] Computing 121 nearest neighbors...\n",
      "[t-SNE] Indexed 2425 samples in 0.000s...\n",
      "[t-SNE] Computed neighbors for 2425 samples in 0.336s...\n",
      "[t-SNE] Computed conditional probabilities for sample 1000 / 2425\n",
      "[t-SNE] Computed conditional probabilities for sample 2000 / 2425\n",
      "[t-SNE] Computed conditional probabilities for sample 2425 / 2425\n",
      "[t-SNE] Mean sigma: 0.039147\n",
      "[t-SNE] KL divergence after 250 iterations with early exaggeration: 64.672249\n",
      "[t-SNE] KL divergence after 300 iterations: 1.680900\n",
      "[t-SNE] Computing 121 nearest neighbors...\n",
      "[t-SNE] Indexed 2425 samples in 0.001s...\n",
      "[t-SNE] Computed neighbors for 2425 samples in 0.307s...\n",
      "[t-SNE] Computed conditional probabilities for sample 1000 / 2425\n",
      "[t-SNE] Computed conditional probabilities for sample 2000 / 2425\n",
      "[t-SNE] Computed conditional probabilities for sample 2425 / 2425\n",
      "[t-SNE] Mean sigma: 0.039147\n",
      "[t-SNE] KL divergence after 250 iterations with early exaggeration: 64.672523\n",
      "[t-SNE] KL divergence after 300 iterations: 1.686049\n",
      "[t-SNE] Computing 121 nearest neighbors...\n",
      "[t-SNE] Indexed 2425 samples in 0.001s...\n",
      "[t-SNE] Computed neighbors for 2425 samples in 0.307s...\n",
      "[t-SNE] Computed conditional probabilities for sample 1000 / 2425\n",
      "[t-SNE] Computed conditional probabilities for sample 2000 / 2425\n",
      "[t-SNE] Computed conditional probabilities for sample 2425 / 2425\n",
      "[t-SNE] Mean sigma: 0.039147\n",
      "[t-SNE] KL divergence after 250 iterations with early exaggeration: 64.672684\n",
      "[t-SNE] KL divergence after 300 iterations: 1.687319\n"
     ]
    },
    {
     "name": "stderr",
     "output_type": "stream",
     "text": [
      "8it [04:11, 35.27s/it]"
     ]
    },
    {
     "name": "stdout",
     "output_type": "stream",
     "text": [
      "[t-SNE] Computing 121 nearest neighbors...\n",
      "[t-SNE] Indexed 2425 samples in 0.001s...\n",
      "[t-SNE] Computed neighbors for 2425 samples in 0.327s...\n",
      "[t-SNE] Computed conditional probabilities for sample 1000 / 2425\n",
      "[t-SNE] Computed conditional probabilities for sample 2000 / 2425\n",
      "[t-SNE] Computed conditional probabilities for sample 2425 / 2425\n",
      "[t-SNE] Mean sigma: 0.039014\n",
      "[t-SNE] KL divergence after 250 iterations with early exaggeration: 64.597359\n",
      "[t-SNE] KL divergence after 300 iterations: 1.706527\n",
      "[t-SNE] Computing 121 nearest neighbors...\n",
      "[t-SNE] Indexed 2425 samples in 0.000s...\n",
      "[t-SNE] Computed neighbors for 2425 samples in 0.375s...\n",
      "[t-SNE] Computed conditional probabilities for sample 1000 / 2425\n",
      "[t-SNE] Computed conditional probabilities for sample 2000 / 2425\n",
      "[t-SNE] Computed conditional probabilities for sample 2425 / 2425\n",
      "[t-SNE] Mean sigma: 0.039014\n",
      "[t-SNE] KL divergence after 250 iterations with early exaggeration: 64.599205\n",
      "[t-SNE] KL divergence after 300 iterations: 1.706703\n",
      "[t-SNE] Computing 121 nearest neighbors...\n",
      "[t-SNE] Indexed 2425 samples in 0.001s...\n",
      "[t-SNE] Computed neighbors for 2425 samples in 0.362s...\n",
      "[t-SNE] Computed conditional probabilities for sample 1000 / 2425\n",
      "[t-SNE] Computed conditional probabilities for sample 2000 / 2425\n",
      "[t-SNE] Computed conditional probabilities for sample 2425 / 2425\n",
      "[t-SNE] Mean sigma: 0.039014\n",
      "[t-SNE] KL divergence after 250 iterations with early exaggeration: 64.597282\n",
      "[t-SNE] KL divergence after 300 iterations: 1.702987\n"
     ]
    },
    {
     "name": "stderr",
     "output_type": "stream",
     "text": [
      "9it [04:48, 35.78s/it]"
     ]
    },
    {
     "name": "stdout",
     "output_type": "stream",
     "text": [
      "[t-SNE] Computing 121 nearest neighbors...\n",
      "[t-SNE] Indexed 2425 samples in 0.001s...\n",
      "[t-SNE] Computed neighbors for 2425 samples in 0.351s...\n",
      "[t-SNE] Computed conditional probabilities for sample 1000 / 2425\n",
      "[t-SNE] Computed conditional probabilities for sample 2000 / 2425\n",
      "[t-SNE] Computed conditional probabilities for sample 2425 / 2425\n",
      "[t-SNE] Mean sigma: 0.039401\n",
      "[t-SNE] KL divergence after 250 iterations with early exaggeration: 64.717590\n",
      "[t-SNE] KL divergence after 300 iterations: 1.638181\n",
      "[t-SNE] Computing 121 nearest neighbors...\n",
      "[t-SNE] Indexed 2425 samples in 0.001s...\n",
      "[t-SNE] Computed neighbors for 2425 samples in 0.379s...\n",
      "[t-SNE] Computed conditional probabilities for sample 1000 / 2425\n",
      "[t-SNE] Computed conditional probabilities for sample 2000 / 2425\n",
      "[t-SNE] Computed conditional probabilities for sample 2425 / 2425\n",
      "[t-SNE] Mean sigma: 0.039401\n",
      "[t-SNE] KL divergence after 250 iterations with early exaggeration: 64.717842\n",
      "[t-SNE] KL divergence after 300 iterations: 1.638284\n",
      "[t-SNE] Computing 121 nearest neighbors...\n",
      "[t-SNE] Indexed 2425 samples in 0.001s...\n",
      "[t-SNE] Computed neighbors for 2425 samples in 0.289s...\n",
      "[t-SNE] Computed conditional probabilities for sample 1000 / 2425\n",
      "[t-SNE] Computed conditional probabilities for sample 2000 / 2425\n",
      "[t-SNE] Computed conditional probabilities for sample 2425 / 2425\n",
      "[t-SNE] Mean sigma: 0.039401\n",
      "[t-SNE] KL divergence after 250 iterations with early exaggeration: 64.717407\n",
      "[t-SNE] KL divergence after 300 iterations: 1.637406\n"
     ]
    },
    {
     "name": "stderr",
     "output_type": "stream",
     "text": [
      "10it [05:25, 36.18s/it]"
     ]
    },
    {
     "name": "stdout",
     "output_type": "stream",
     "text": [
      "[t-SNE] Computing 121 nearest neighbors...\n",
      "[t-SNE] Indexed 2425 samples in 0.000s...\n",
      "[t-SNE] Computed neighbors for 2425 samples in 0.373s...\n",
      "[t-SNE] Computed conditional probabilities for sample 1000 / 2425\n",
      "[t-SNE] Computed conditional probabilities for sample 2000 / 2425\n",
      "[t-SNE] Computed conditional probabilities for sample 2425 / 2425\n",
      "[t-SNE] Mean sigma: 0.038783\n",
      "[t-SNE] KL divergence after 250 iterations with early exaggeration: 64.742950\n",
      "[t-SNE] KL divergence after 300 iterations: 1.610184\n",
      "[t-SNE] Computing 121 nearest neighbors...\n",
      "[t-SNE] Indexed 2425 samples in 0.001s...\n",
      "[t-SNE] Computed neighbors for 2425 samples in 0.609s...\n",
      "[t-SNE] Computed conditional probabilities for sample 1000 / 2425\n",
      "[t-SNE] Computed conditional probabilities for sample 2000 / 2425\n",
      "[t-SNE] Computed conditional probabilities for sample 2425 / 2425\n",
      "[t-SNE] Mean sigma: 0.038783\n",
      "[t-SNE] KL divergence after 250 iterations with early exaggeration: 64.743347\n",
      "[t-SNE] KL divergence after 300 iterations: 1.610346\n",
      "[t-SNE] Computing 121 nearest neighbors...\n",
      "[t-SNE] Indexed 2425 samples in 0.001s...\n",
      "[t-SNE] Computed neighbors for 2425 samples in 0.390s...\n",
      "[t-SNE] Computed conditional probabilities for sample 1000 / 2425\n",
      "[t-SNE] Computed conditional probabilities for sample 2000 / 2425\n",
      "[t-SNE] Computed conditional probabilities for sample 2425 / 2425\n",
      "[t-SNE] Mean sigma: 0.038783\n",
      "[t-SNE] KL divergence after 250 iterations with early exaggeration: 64.744530\n",
      "[t-SNE] KL divergence after 300 iterations: 1.610289\n"
     ]
    },
    {
     "name": "stderr",
     "output_type": "stream",
     "text": [
      "11it [06:16, 40.53s/it]"
     ]
    },
    {
     "name": "stdout",
     "output_type": "stream",
     "text": [
      "[t-SNE] Computing 121 nearest neighbors...\n",
      "[t-SNE] Indexed 2425 samples in 0.000s...\n",
      "[t-SNE] Computed neighbors for 2425 samples in 0.368s...\n",
      "[t-SNE] Computed conditional probabilities for sample 1000 / 2425\n",
      "[t-SNE] Computed conditional probabilities for sample 2000 / 2425\n",
      "[t-SNE] Computed conditional probabilities for sample 2425 / 2425\n",
      "[t-SNE] Mean sigma: 0.039186\n",
      "[t-SNE] KL divergence after 250 iterations with early exaggeration: 64.847435\n",
      "[t-SNE] KL divergence after 300 iterations: 1.645390\n",
      "[t-SNE] Computing 121 nearest neighbors...\n",
      "[t-SNE] Indexed 2425 samples in 0.001s...\n",
      "[t-SNE] Computed neighbors for 2425 samples in 0.371s...\n",
      "[t-SNE] Computed conditional probabilities for sample 1000 / 2425\n",
      "[t-SNE] Computed conditional probabilities for sample 2000 / 2425\n",
      "[t-SNE] Computed conditional probabilities for sample 2425 / 2425\n",
      "[t-SNE] Mean sigma: 0.039186\n",
      "[t-SNE] KL divergence after 250 iterations with early exaggeration: 64.847321\n",
      "[t-SNE] KL divergence after 300 iterations: 1.646004\n",
      "[t-SNE] Computing 121 nearest neighbors...\n",
      "[t-SNE] Indexed 2425 samples in 0.001s...\n",
      "[t-SNE] Computed neighbors for 2425 samples in 0.395s...\n",
      "[t-SNE] Computed conditional probabilities for sample 1000 / 2425\n",
      "[t-SNE] Computed conditional probabilities for sample 2000 / 2425\n",
      "[t-SNE] Computed conditional probabilities for sample 2425 / 2425\n",
      "[t-SNE] Mean sigma: 0.039186\n",
      "[t-SNE] KL divergence after 250 iterations with early exaggeration: 64.847336\n",
      "[t-SNE] KL divergence after 300 iterations: 1.645929\n"
     ]
    },
    {
     "name": "stderr",
     "output_type": "stream",
     "text": [
      "12it [07:07, 43.76s/it]"
     ]
    },
    {
     "name": "stdout",
     "output_type": "stream",
     "text": [
      "[t-SNE] Computing 121 nearest neighbors...\n",
      "[t-SNE] Indexed 2425 samples in 0.001s...\n",
      "[t-SNE] Computed neighbors for 2425 samples in 0.360s...\n",
      "[t-SNE] Computed conditional probabilities for sample 1000 / 2425\n",
      "[t-SNE] Computed conditional probabilities for sample 2000 / 2425\n",
      "[t-SNE] Computed conditional probabilities for sample 2425 / 2425\n",
      "[t-SNE] Mean sigma: 0.039013\n",
      "[t-SNE] KL divergence after 250 iterations with early exaggeration: 64.679375\n",
      "[t-SNE] KL divergence after 300 iterations: 1.608071\n",
      "[t-SNE] Computing 121 nearest neighbors...\n",
      "[t-SNE] Indexed 2425 samples in 0.001s...\n",
      "[t-SNE] Computed neighbors for 2425 samples in 0.336s...\n",
      "[t-SNE] Computed conditional probabilities for sample 1000 / 2425\n",
      "[t-SNE] Computed conditional probabilities for sample 2000 / 2425\n",
      "[t-SNE] Computed conditional probabilities for sample 2425 / 2425\n",
      "[t-SNE] Mean sigma: 0.039013\n",
      "[t-SNE] KL divergence after 250 iterations with early exaggeration: 64.679832\n",
      "[t-SNE] KL divergence after 300 iterations: 1.607768\n",
      "[t-SNE] Computing 121 nearest neighbors...\n",
      "[t-SNE] Indexed 2425 samples in 0.000s...\n",
      "[t-SNE] Computed neighbors for 2425 samples in 0.341s...\n",
      "[t-SNE] Computed conditional probabilities for sample 1000 / 2425\n",
      "[t-SNE] Computed conditional probabilities for sample 2000 / 2425\n",
      "[t-SNE] Computed conditional probabilities for sample 2425 / 2425\n",
      "[t-SNE] Mean sigma: 0.039013\n",
      "[t-SNE] KL divergence after 250 iterations with early exaggeration: 64.679504\n",
      "[t-SNE] KL divergence after 300 iterations: 1.607664\n"
     ]
    },
    {
     "name": "stderr",
     "output_type": "stream",
     "text": [
      "13it [07:58, 45.96s/it]"
     ]
    },
    {
     "name": "stdout",
     "output_type": "stream",
     "text": [
      "[t-SNE] Computing 121 nearest neighbors...\n",
      "[t-SNE] Indexed 2425 samples in 0.001s...\n",
      "[t-SNE] Computed neighbors for 2425 samples in 0.367s...\n",
      "[t-SNE] Computed conditional probabilities for sample 1000 / 2425\n",
      "[t-SNE] Computed conditional probabilities for sample 2000 / 2425\n",
      "[t-SNE] Computed conditional probabilities for sample 2425 / 2425\n",
      "[t-SNE] Mean sigma: 0.039360\n",
      "[t-SNE] KL divergence after 250 iterations with early exaggeration: 64.638359\n",
      "[t-SNE] KL divergence after 300 iterations: 1.625686\n",
      "[t-SNE] Computing 121 nearest neighbors...\n",
      "[t-SNE] Indexed 2425 samples in 0.002s...\n",
      "[t-SNE] Computed neighbors for 2425 samples in 0.420s...\n",
      "[t-SNE] Computed conditional probabilities for sample 1000 / 2425\n",
      "[t-SNE] Computed conditional probabilities for sample 2000 / 2425\n",
      "[t-SNE] Computed conditional probabilities for sample 2425 / 2425\n",
      "[t-SNE] Mean sigma: 0.039360\n",
      "[t-SNE] KL divergence after 250 iterations with early exaggeration: 64.638817\n",
      "[t-SNE] KL divergence after 300 iterations: 1.626169\n",
      "[t-SNE] Computing 121 nearest neighbors...\n",
      "[t-SNE] Indexed 2425 samples in 0.002s...\n",
      "[t-SNE] Computed neighbors for 2425 samples in 0.617s...\n",
      "[t-SNE] Computed conditional probabilities for sample 1000 / 2425\n",
      "[t-SNE] Computed conditional probabilities for sample 2000 / 2425\n",
      "[t-SNE] Computed conditional probabilities for sample 2425 / 2425\n",
      "[t-SNE] Mean sigma: 0.039360\n",
      "[t-SNE] KL divergence after 250 iterations with early exaggeration: 64.638222\n",
      "[t-SNE] KL divergence after 300 iterations: 1.625218\n"
     ]
    },
    {
     "name": "stderr",
     "output_type": "stream",
     "text": [
      "14it [08:48, 47.38s/it]"
     ]
    },
    {
     "name": "stdout",
     "output_type": "stream",
     "text": [
      "[t-SNE] Computing 121 nearest neighbors...\n",
      "[t-SNE] Indexed 2425 samples in 0.001s...\n",
      "[t-SNE] Computed neighbors for 2425 samples in 0.439s...\n",
      "[t-SNE] Computed conditional probabilities for sample 1000 / 2425\n",
      "[t-SNE] Computed conditional probabilities for sample 2000 / 2425\n",
      "[t-SNE] Computed conditional probabilities for sample 2425 / 2425\n",
      "[t-SNE] Mean sigma: 0.039422\n",
      "[t-SNE] KL divergence after 250 iterations with early exaggeration: 64.759796\n",
      "[t-SNE] KL divergence after 300 iterations: 1.599640\n",
      "[t-SNE] Computing 121 nearest neighbors...\n",
      "[t-SNE] Indexed 2425 samples in 0.000s...\n",
      "[t-SNE] Computed neighbors for 2425 samples in 0.377s...\n",
      "[t-SNE] Computed conditional probabilities for sample 1000 / 2425\n",
      "[t-SNE] Computed conditional probabilities for sample 2000 / 2425\n",
      "[t-SNE] Computed conditional probabilities for sample 2425 / 2425\n",
      "[t-SNE] Mean sigma: 0.039422\n",
      "[t-SNE] KL divergence after 250 iterations with early exaggeration: 64.760033\n",
      "[t-SNE] KL divergence after 300 iterations: 1.599617\n",
      "[t-SNE] Computing 121 nearest neighbors...\n",
      "[t-SNE] Indexed 2425 samples in 0.003s...\n",
      "[t-SNE] Computed neighbors for 2425 samples in 0.548s...\n",
      "[t-SNE] Computed conditional probabilities for sample 1000 / 2425\n",
      "[t-SNE] Computed conditional probabilities for sample 2000 / 2425\n",
      "[t-SNE] Computed conditional probabilities for sample 2425 / 2425\n",
      "[t-SNE] Mean sigma: 0.039422\n",
      "[t-SNE] KL divergence after 250 iterations with early exaggeration: 64.759262\n",
      "[t-SNE] KL divergence after 300 iterations: 1.599769\n"
     ]
    },
    {
     "name": "stderr",
     "output_type": "stream",
     "text": [
      "15it [09:41, 48.93s/it]"
     ]
    },
    {
     "name": "stdout",
     "output_type": "stream",
     "text": [
      "[t-SNE] Computing 121 nearest neighbors...\n",
      "[t-SNE] Indexed 2425 samples in 0.002s...\n",
      "[t-SNE] Computed neighbors for 2425 samples in 0.606s...\n",
      "[t-SNE] Computed conditional probabilities for sample 1000 / 2425\n",
      "[t-SNE] Computed conditional probabilities for sample 2000 / 2425\n",
      "[t-SNE] Computed conditional probabilities for sample 2425 / 2425\n",
      "[t-SNE] Mean sigma: 0.039529\n",
      "[t-SNE] KL divergence after 250 iterations with early exaggeration: 64.687241\n",
      "[t-SNE] KL divergence after 300 iterations: 1.612697\n",
      "[t-SNE] Computing 121 nearest neighbors...\n",
      "[t-SNE] Indexed 2425 samples in 0.002s...\n",
      "[t-SNE] Computed neighbors for 2425 samples in 0.389s...\n",
      "[t-SNE] Computed conditional probabilities for sample 1000 / 2425\n",
      "[t-SNE] Computed conditional probabilities for sample 2000 / 2425\n",
      "[t-SNE] Computed conditional probabilities for sample 2425 / 2425\n",
      "[t-SNE] Mean sigma: 0.039529\n",
      "[t-SNE] KL divergence after 250 iterations with early exaggeration: 64.687172\n",
      "[t-SNE] KL divergence after 300 iterations: 1.612649\n",
      "[t-SNE] Computing 121 nearest neighbors...\n",
      "[t-SNE] Indexed 2425 samples in 0.002s...\n",
      "[t-SNE] Computed neighbors for 2425 samples in 0.417s...\n",
      "[t-SNE] Computed conditional probabilities for sample 1000 / 2425\n",
      "[t-SNE] Computed conditional probabilities for sample 2000 / 2425\n",
      "[t-SNE] Computed conditional probabilities for sample 2425 / 2425\n",
      "[t-SNE] Mean sigma: 0.039529\n",
      "[t-SNE] KL divergence after 250 iterations with early exaggeration: 64.687393\n",
      "[t-SNE] KL divergence after 300 iterations: 1.612697\n"
     ]
    },
    {
     "name": "stderr",
     "output_type": "stream",
     "text": [
      "16it [10:31, 49.32s/it]"
     ]
    },
    {
     "name": "stdout",
     "output_type": "stream",
     "text": [
      "[t-SNE] Computing 121 nearest neighbors...\n",
      "[t-SNE] Indexed 2425 samples in 0.000s...\n",
      "[t-SNE] Computed neighbors for 2425 samples in 0.430s...\n",
      "[t-SNE] Computed conditional probabilities for sample 1000 / 2425\n",
      "[t-SNE] Computed conditional probabilities for sample 2000 / 2425\n",
      "[t-SNE] Computed conditional probabilities for sample 2425 / 2425\n",
      "[t-SNE] Mean sigma: 0.039094\n",
      "[t-SNE] KL divergence after 250 iterations with early exaggeration: 64.766701\n",
      "[t-SNE] KL divergence after 300 iterations: 1.594919\n",
      "[t-SNE] Computing 121 nearest neighbors...\n",
      "[t-SNE] Indexed 2425 samples in 0.002s...\n",
      "[t-SNE] Computed neighbors for 2425 samples in 0.522s...\n",
      "[t-SNE] Computed conditional probabilities for sample 1000 / 2425\n",
      "[t-SNE] Computed conditional probabilities for sample 2000 / 2425\n",
      "[t-SNE] Computed conditional probabilities for sample 2425 / 2425\n",
      "[t-SNE] Mean sigma: 0.039094\n",
      "[t-SNE] KL divergence after 250 iterations with early exaggeration: 64.766472\n",
      "[t-SNE] KL divergence after 300 iterations: 1.594997\n",
      "[t-SNE] Computing 121 nearest neighbors...\n",
      "[t-SNE] Indexed 2425 samples in 0.002s...\n",
      "[t-SNE] Computed neighbors for 2425 samples in 0.500s...\n",
      "[t-SNE] Computed conditional probabilities for sample 1000 / 2425\n",
      "[t-SNE] Computed conditional probabilities for sample 2000 / 2425\n",
      "[t-SNE] Computed conditional probabilities for sample 2425 / 2425\n",
      "[t-SNE] Mean sigma: 0.039094\n",
      "[t-SNE] KL divergence after 250 iterations with early exaggeration: 64.766426\n",
      "[t-SNE] KL divergence after 300 iterations: 1.595039\n"
     ]
    },
    {
     "name": "stderr",
     "output_type": "stream",
     "text": [
      "17it [11:26, 50.85s/it]"
     ]
    },
    {
     "name": "stdout",
     "output_type": "stream",
     "text": [
      "[t-SNE] Computing 121 nearest neighbors...\n",
      "[t-SNE] Indexed 2425 samples in 0.000s...\n",
      "[t-SNE] Computed neighbors for 2425 samples in 0.355s...\n",
      "[t-SNE] Computed conditional probabilities for sample 1000 / 2425\n",
      "[t-SNE] Computed conditional probabilities for sample 2000 / 2425\n",
      "[t-SNE] Computed conditional probabilities for sample 2425 / 2425\n",
      "[t-SNE] Mean sigma: 0.039097\n",
      "[t-SNE] KL divergence after 250 iterations with early exaggeration: 64.784714\n",
      "[t-SNE] KL divergence after 300 iterations: 1.640230\n",
      "[t-SNE] Computing 121 nearest neighbors...\n",
      "[t-SNE] Indexed 2425 samples in 0.001s...\n",
      "[t-SNE] Computed neighbors for 2425 samples in 0.380s...\n",
      "[t-SNE] Computed conditional probabilities for sample 1000 / 2425\n",
      "[t-SNE] Computed conditional probabilities for sample 2000 / 2425\n",
      "[t-SNE] Computed conditional probabilities for sample 2425 / 2425\n",
      "[t-SNE] Mean sigma: 0.039097\n",
      "[t-SNE] KL divergence after 250 iterations with early exaggeration: 64.784172\n",
      "[t-SNE] KL divergence after 300 iterations: 1.644475\n",
      "[t-SNE] Computing 121 nearest neighbors...\n",
      "[t-SNE] Indexed 2425 samples in 0.002s...\n",
      "[t-SNE] Computed neighbors for 2425 samples in 0.455s...\n",
      "[t-SNE] Computed conditional probabilities for sample 1000 / 2425\n",
      "[t-SNE] Computed conditional probabilities for sample 2000 / 2425\n",
      "[t-SNE] Computed conditional probabilities for sample 2425 / 2425\n",
      "[t-SNE] Mean sigma: 0.039097\n",
      "[t-SNE] KL divergence after 250 iterations with early exaggeration: 64.785446\n",
      "[t-SNE] KL divergence after 300 iterations: 1.638430\n"
     ]
    },
    {
     "name": "stderr",
     "output_type": "stream",
     "text": [
      "18it [12:18, 51.31s/it]"
     ]
    },
    {
     "name": "stdout",
     "output_type": "stream",
     "text": [
      "[t-SNE] Computing 121 nearest neighbors...\n",
      "[t-SNE] Indexed 2425 samples in 0.001s...\n",
      "[t-SNE] Computed neighbors for 2425 samples in 0.366s...\n",
      "[t-SNE] Computed conditional probabilities for sample 1000 / 2425\n",
      "[t-SNE] Computed conditional probabilities for sample 2000 / 2425\n",
      "[t-SNE] Computed conditional probabilities for sample 2425 / 2425\n",
      "[t-SNE] Mean sigma: 0.039219\n",
      "[t-SNE] KL divergence after 250 iterations with early exaggeration: 64.604507\n",
      "[t-SNE] KL divergence after 300 iterations: 1.678837\n",
      "[t-SNE] Computing 121 nearest neighbors...\n",
      "[t-SNE] Indexed 2425 samples in 0.000s...\n",
      "[t-SNE] Computed neighbors for 2425 samples in 0.600s...\n",
      "[t-SNE] Computed conditional probabilities for sample 1000 / 2425\n",
      "[t-SNE] Computed conditional probabilities for sample 2000 / 2425\n",
      "[t-SNE] Computed conditional probabilities for sample 2425 / 2425\n",
      "[t-SNE] Mean sigma: 0.039219\n",
      "[t-SNE] KL divergence after 250 iterations with early exaggeration: 64.604942\n",
      "[t-SNE] KL divergence after 300 iterations: 1.684098\n",
      "[t-SNE] Computing 121 nearest neighbors...\n",
      "[t-SNE] Indexed 2425 samples in 0.001s...\n",
      "[t-SNE] Computed neighbors for 2425 samples in 0.352s...\n",
      "[t-SNE] Computed conditional probabilities for sample 1000 / 2425\n",
      "[t-SNE] Computed conditional probabilities for sample 2000 / 2425\n",
      "[t-SNE] Computed conditional probabilities for sample 2425 / 2425\n",
      "[t-SNE] Mean sigma: 0.039219\n",
      "[t-SNE] KL divergence after 250 iterations with early exaggeration: 64.604965\n",
      "[t-SNE] KL divergence after 300 iterations: 1.686796\n"
     ]
    },
    {
     "name": "stderr",
     "output_type": "stream",
     "text": [
      "19it [13:09, 51.24s/it]"
     ]
    },
    {
     "name": "stdout",
     "output_type": "stream",
     "text": [
      "[t-SNE] Computing 121 nearest neighbors...\n",
      "[t-SNE] Indexed 2425 samples in 0.002s...\n",
      "[t-SNE] Computed neighbors for 2425 samples in 0.370s...\n",
      "[t-SNE] Computed conditional probabilities for sample 1000 / 2425\n",
      "[t-SNE] Computed conditional probabilities for sample 2000 / 2425\n",
      "[t-SNE] Computed conditional probabilities for sample 2425 / 2425\n",
      "[t-SNE] Mean sigma: 0.039685\n",
      "[t-SNE] KL divergence after 250 iterations with early exaggeration: 64.980896\n",
      "[t-SNE] KL divergence after 300 iterations: 1.630360\n",
      "[t-SNE] Computing 121 nearest neighbors...\n",
      "[t-SNE] Indexed 2425 samples in 0.002s...\n",
      "[t-SNE] Computed neighbors for 2425 samples in 0.575s...\n",
      "[t-SNE] Computed conditional probabilities for sample 1000 / 2425\n",
      "[t-SNE] Computed conditional probabilities for sample 2000 / 2425\n",
      "[t-SNE] Computed conditional probabilities for sample 2425 / 2425\n",
      "[t-SNE] Mean sigma: 0.039685\n",
      "[t-SNE] KL divergence after 250 iterations with early exaggeration: 64.980957\n",
      "[t-SNE] KL divergence after 300 iterations: 1.630423\n",
      "[t-SNE] Computing 121 nearest neighbors...\n",
      "[t-SNE] Indexed 2425 samples in 0.000s...\n",
      "[t-SNE] Computed neighbors for 2425 samples in 0.204s...\n",
      "[t-SNE] Computed conditional probabilities for sample 1000 / 2425\n",
      "[t-SNE] Computed conditional probabilities for sample 2000 / 2425\n",
      "[t-SNE] Computed conditional probabilities for sample 2425 / 2425\n",
      "[t-SNE] Mean sigma: 0.039685\n",
      "[t-SNE] KL divergence after 250 iterations with early exaggeration: 64.981293\n",
      "[t-SNE] KL divergence after 300 iterations: 1.630718\n"
     ]
    },
    {
     "name": "stderr",
     "output_type": "stream",
     "text": [
      "20it [13:49, 41.46s/it]\n"
     ]
    }
   ],
   "source": [
    "for syn_vals, gbm_vals, cev_vals, heston_vals in tqdm(zip(syn_val_sets, gbm_val_sets, cev_val_sets, heston_val_sets)):\n",
    "    for iter in range(3):\n",
    "        # JS-PCA\n",
    "        syn_score, gbm_score, cev_score, heston_score  = js_div(real_vals, [syn_vals, gbm_vals, cev_vals, heston_vals], mode='pca')\n",
    "        eval_scores['js_pca']['syn'].append(syn_score)\n",
    "        eval_scores['js_pca']['gbm'].append(gbm_score)\n",
    "        eval_scores['js_pca']['cev'].append(cev_score)\n",
    "        eval_scores['js_pca']['heston'].append(heston_score)\n",
    "        \n",
    "        # JS-TSNE\n",
    "        syn_score, gbm_score, cev_score, heston_score = js_div(real_vals, [syn_vals, gbm_vals, cev_vals, heston_vals], mode='tsne')\n",
    "        eval_scores['js_tsne']['syn'].append(syn_score)\n",
    "        eval_scores['js_tsne']['gbm'].append(gbm_score)\n",
    "        eval_scores['js_tsne']['cev'].append(cev_score)\n",
    "        eval_scores['js_tsne']['heston'].append(heston_score)\n",
    "    \n",
    "    # FID\n",
    "    syn_score = fid(real_vals, syn_vals)\n",
    "    gbm_score = fid(real_vals, gbm_vals)\n",
    "    cev_score = fid(real_vals, cev_vals)\n",
    "    heston_score = fid(real_vals, heston_vals)\n",
    "    eval_scores['fid']['syn'].append(syn_score)\n",
    "    eval_scores['fid']['gbm'].append(gbm_score)\n",
    "    eval_scores['fid']['cev'].append(cev_score)\n",
    "    eval_scores['fid']['heston'].append(heston_score)\n",
    "\n",
    "to_pkl(f'logs/{LOGDIR}/results/eval_scores.pkl', eval_scores)"
   ]
  },
  {
   "attachments": {},
   "cell_type": "markdown",
   "metadata": {},
   "source": [
    "# Run hypothesis tests"
   ]
  },
  {
   "cell_type": "code",
   "execution_count": 14,
   "metadata": {},
   "outputs": [],
   "source": [
    "from scipy.stats import ttest_ind\n",
    "eval_scores = from_pkl(f'logs/{LOGDIR}/results/eval_scores.pkl')"
   ]
  },
  {
   "cell_type": "code",
   "execution_count": 15,
   "metadata": {},
   "outputs": [],
   "source": [
    "def hypothesis_test(syn_scores, gbm_scores):\n",
    "    syn_scores = np.array(syn_scores)\n",
    "    gbm_scores = np.array(gbm_scores)\n",
    "    print(\"Synthetic:\")\n",
    "    print(f\"\\tmean  = {syn_scores.mean()}\")\n",
    "    print(f\"\\tstdev = {syn_scores.std(ddof=1)}\")\n",
    "    print(\"Benchmark:\")\n",
    "    print(f\"\\tmean  = {gbm_scores.mean()}\")\n",
    "    print(f\"\\tstdev = {gbm_scores.std(ddof=1)}\")\n",
    "\n",
    "    p_value = ttest_ind(syn_scores, gbm_scores, alternative='less').pvalue \n",
    "    print(f\"p-value = {p_value}\")"
   ]
  },
  {
   "attachments": {},
   "cell_type": "markdown",
   "metadata": {},
   "source": [
    "### PCA JS-Divergence"
   ]
  },
  {
   "cell_type": "code",
   "execution_count": 16,
   "metadata": {},
   "outputs": [
    {
     "name": "stdout",
     "output_type": "stream",
     "text": [
      "Synthetic:\n",
      "\tmean  = 7.615977714377631\n",
      "\tstdev = 0.630243592981955\n",
      "Benchmark:\n",
      "\tmean  = 7.242417676190246\n",
      "\tstdev = 0.5478223669189014\n",
      "p-value = 0.9996301744518482\n"
     ]
    }
   ],
   "source": [
    "hypothesis_test(eval_scores['js_pca']['syn'], eval_scores['js_pca']['gbm'])"
   ]
  },
  {
   "cell_type": "code",
   "execution_count": 17,
   "metadata": {},
   "outputs": [
    {
     "name": "stdout",
     "output_type": "stream",
     "text": [
      "Synthetic:\n",
      "\tmean  = 7.615977714377631\n",
      "\tstdev = 0.630243592981955\n",
      "Benchmark:\n",
      "\tmean  = 6.300331258760185\n",
      "\tstdev = 0.502246362229912\n",
      "p-value = 1.0\n"
     ]
    }
   ],
   "source": [
    "hypothesis_test(eval_scores['js_pca']['syn'], eval_scores['js_pca']['cev'])"
   ]
  },
  {
   "cell_type": "code",
   "execution_count": 18,
   "metadata": {},
   "outputs": [
    {
     "name": "stdout",
     "output_type": "stream",
     "text": [
      "Synthetic:\n",
      "\tmean  = 7.615977714377631\n",
      "\tstdev = 0.630243592981955\n",
      "Benchmark:\n",
      "\tmean  = 6.093827098918665\n",
      "\tstdev = 0.44447805838727455\n",
      "p-value = 1.0\n"
     ]
    }
   ],
   "source": [
    "hypothesis_test(eval_scores['js_pca']['syn'], eval_scores['js_pca']['heston'])"
   ]
  },
  {
   "attachments": {},
   "cell_type": "markdown",
   "metadata": {},
   "source": [
    "### TSNE JS-Divergence"
   ]
  },
  {
   "cell_type": "code",
   "execution_count": 19,
   "metadata": {},
   "outputs": [
    {
     "name": "stdout",
     "output_type": "stream",
     "text": [
      "Synthetic:\n",
      "\tmean  = 0.20648791172827227\n",
      "\tstdev = 0.03399622522092403\n",
      "Benchmark:\n",
      "\tmean  = 0.24909505547513716\n",
      "\tstdev = 0.039781046058691594\n",
      "p-value = 2.5671830971693217e-09\n"
     ]
    }
   ],
   "source": [
    "hypothesis_test(eval_scores['js_tsne']['syn'], eval_scores['js_tsne']['gbm'])"
   ]
  },
  {
   "cell_type": "code",
   "execution_count": 20,
   "metadata": {},
   "outputs": [
    {
     "name": "stdout",
     "output_type": "stream",
     "text": [
      "Synthetic:\n",
      "\tmean  = 0.20648791172827227\n",
      "\tstdev = 0.03399622522092403\n",
      "Benchmark:\n",
      "\tmean  = 0.17166075341452747\n",
      "\tstdev = 0.0270114788657829\n",
      "p-value = 0.999999995963944\n"
     ]
    }
   ],
   "source": [
    "hypothesis_test(eval_scores['js_tsne']['syn'], eval_scores['js_tsne']['cev'])"
   ]
  },
  {
   "cell_type": "code",
   "execution_count": 21,
   "metadata": {},
   "outputs": [
    {
     "name": "stdout",
     "output_type": "stream",
     "text": [
      "Synthetic:\n",
      "\tmean  = 0.20648791172827227\n",
      "\tstdev = 0.03399622522092403\n",
      "Benchmark:\n",
      "\tmean  = 0.17354885935581496\n",
      "\tstdev = 0.03815983942616261\n",
      "p-value = 0.9999989590271716\n"
     ]
    }
   ],
   "source": [
    "hypothesis_test(eval_scores['js_tsne']['syn'], eval_scores['js_tsne']['heston'])"
   ]
  },
  {
   "attachments": {},
   "cell_type": "markdown",
   "metadata": {},
   "source": [
    "### FID Score"
   ]
  },
  {
   "cell_type": "code",
   "execution_count": 22,
   "metadata": {},
   "outputs": [
    {
     "name": "stdout",
     "output_type": "stream",
     "text": [
      "Synthetic:\n",
      "\tmean  = 0.022532573406634\n",
      "\tstdev = 0.000995650827122811\n",
      "Benchmark:\n",
      "\tmean  = 0.007541947840446617\n",
      "\tstdev = 0.0005758004657698565\n",
      "p-value = 1.0\n"
     ]
    }
   ],
   "source": [
    "hypothesis_test(eval_scores['fid']['syn'], eval_scores['fid']['gbm'])"
   ]
  },
  {
   "cell_type": "code",
   "execution_count": 23,
   "metadata": {},
   "outputs": [
    {
     "name": "stdout",
     "output_type": "stream",
     "text": [
      "Synthetic:\n",
      "\tmean  = 0.022532573406634\n",
      "\tstdev = 0.000995650827122811\n",
      "Benchmark:\n",
      "\tmean  = 0.004560605563891268\n",
      "\tstdev = 0.00037142154675998525\n",
      "p-value = 1.0\n"
     ]
    }
   ],
   "source": [
    "hypothesis_test(eval_scores['fid']['syn'], eval_scores['fid']['cev'])"
   ]
  },
  {
   "cell_type": "code",
   "execution_count": 24,
   "metadata": {},
   "outputs": [
    {
     "name": "stdout",
     "output_type": "stream",
     "text": [
      "Synthetic:\n",
      "\tmean  = 0.022532573406634\n",
      "\tstdev = 0.000995650827122811\n",
      "Benchmark:\n",
      "\tmean  = 0.003090025245840583\n",
      "\tstdev = 0.00043690669595794647\n",
      "p-value = 1.0\n"
     ]
    }
   ],
   "source": [
    "hypothesis_test(eval_scores['fid']['syn'], eval_scores['fid']['heston'])"
   ]
  },
  {
   "cell_type": "code",
   "execution_count": null,
   "metadata": {},
   "outputs": [],
   "source": []
  }
 ],
 "metadata": {
  "kernelspec": {
   "display_name": "base",
   "language": "python",
   "name": "python3"
  },
  "language_info": {
   "codemirror_mode": {
    "name": "ipython",
    "version": 3
   },
   "file_extension": ".py",
   "mimetype": "text/x-python",
   "name": "python",
   "nbconvert_exporter": "python",
   "pygments_lexer": "ipython3",
   "version": "3.10.9"
  },
  "orig_nbformat": 4
 },
 "nbformat": 4,
 "nbformat_minor": 2
}
